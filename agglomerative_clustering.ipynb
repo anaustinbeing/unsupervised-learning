{
  "cells": [
    {
      "cell_type": "markdown",
      "metadata": {
        "id": "view-in-github",
        "colab_type": "text"
      },
      "source": [
        "<a href=\"https://colab.research.google.com/github/anaustinbeing/unsupervised-learning/blob/main/agglomerative_clustering.ipynb\" target=\"_parent\"><img src=\"https://colab.research.google.com/assets/colab-badge.svg\" alt=\"Open In Colab\"/></a>"
      ]
    },
    {
      "cell_type": "code",
      "execution_count": null,
      "id": "aad8abd9",
      "metadata": {
        "id": "aad8abd9"
      },
      "outputs": [],
      "source": [
        "import numpy as np"
      ]
    },
    {
      "cell_type": "code",
      "execution_count": null,
      "id": "a98d7794",
      "metadata": {
        "id": "a98d7794"
      },
      "outputs": [],
      "source": [
        "points = np.array([[2,5],[6,5],[2,4],[2,2],[5,4]])"
      ]
    },
    {
      "cell_type": "code",
      "execution_count": null,
      "id": "62b5eb51",
      "metadata": {
        "id": "62b5eb51",
        "outputId": "9894205d-657d-4881-a099-3615b267298d"
      },
      "outputs": [
        {
          "data": {
            "image/png": "[encoded data removed]",
            "text/plain": [
              "<Figure size 432x288 with 1 Axes>"
            ]
          },
          "metadata": {
            "needs_background": "light"
          },
          "output_type": "display_data"
        }
      ],
      "source": [
        "import matplotlib.pyplot as plt\n",
        "plt.scatter(points[:,0],points[:,1])\n",
        "plt.show()"
      ]
    },
    {
      "cell_type": "code",
      "execution_count": null,
      "id": "d4ea92ad",
      "metadata": {
        "id": "d4ea92ad"
      },
      "outputs": [],
      "source": [
        "import pandas as pd\n",
        "df = pd.DataFrame(points)"
      ]
    },
    {
      "cell_type": "code",
      "execution_count": null,
      "id": "92a38f79",
      "metadata": {
        "id": "92a38f79",
        "outputId": "4a274241-108d-4ea8-a2c9-f4b9c65c2f66"
      },
      "outputs": [
        {
          "data": {
            "text/html": [
              "<div>\n",
              "<style scoped>\n",
              "    .dataframe tbody tr th:only-of-type {\n",
              "        vertical-align: middle;\n",
              "    }\n",
              "\n",
              "    .dataframe tbody tr th {\n",
              "        vertical-align: top;\n",
              "    }\n",
              "\n",
              "    .dataframe thead th {\n",
              "        text-align: right;\n",
              "    }\n",
              "</style>\n",
              "<table border=\"1\" class=\"dataframe\">\n",
              "  <thead>\n",
              "    <tr style=\"text-align: right;\">\n",
              "      <th></th>\n",
              "      <th>0</th>\n",
              "      <th>1</th>\n",
              "    </tr>\n",
              "  </thead>\n",
              "  <tbody>\n",
              "    <tr>\n",
              "      <th>0</th>\n",
              "      <td>2</td>\n",
              "      <td>5</td>\n",
              "    </tr>\n",
              "    <tr>\n",
              "      <th>1</th>\n",
              "      <td>6</td>\n",
              "      <td>5</td>\n",
              "    </tr>\n",
              "    <tr>\n",
              "      <th>2</th>\n",
              "      <td>2</td>\n",
              "      <td>4</td>\n",
              "    </tr>\n",
              "    <tr>\n",
              "      <th>3</th>\n",
              "      <td>2</td>\n",
              "      <td>2</td>\n",
              "    </tr>\n",
              "    <tr>\n",
              "      <th>4</th>\n",
              "      <td>5</td>\n",
              "      <td>4</td>\n",
              "    </tr>\n",
              "  </tbody>\n",
              "</table>\n",
              "</div>"
            ],
            "text/plain": [
              "   0  1\n",
              "0  2  5\n",
              "1  6  5\n",
              "2  2  4\n",
              "3  2  2\n",
              "4  5  4"
            ]
          },
          "execution_count": 5,
          "metadata": {},
          "output_type": "execute_result"
        }
      ],
      "source": [
        "df"
      ]
    },
    {
      "cell_type": "code",
      "execution_count": null,
      "id": "61941261",
      "metadata": {
        "id": "61941261"
      },
      "outputs": [],
      "source": [
        "df.columns=['X','Y']"
      ]
    },
    {
      "cell_type": "code",
      "execution_count": null,
      "id": "0ad29c3c",
      "metadata": {
        "id": "0ad29c3c",
        "outputId": "9edc2506-8b41-45bc-ea8e-d810713f9441"
      },
      "outputs": [
        {
          "data": {
            "text/html": [
              "<div>\n",
              "<style scoped>\n",
              "    .dataframe tbody tr th:only-of-type {\n",
              "        vertical-align: middle;\n",
              "    }\n",
              "\n",
              "    .dataframe tbody tr th {\n",
              "        vertical-align: top;\n",
              "    }\n",
              "\n",
              "    .dataframe thead th {\n",
              "        text-align: right;\n",
              "    }\n",
              "</style>\n",
              "<table border=\"1\" class=\"dataframe\">\n",
              "  <thead>\n",
              "    <tr style=\"text-align: right;\">\n",
              "      <th></th>\n",
              "      <th>X</th>\n",
              "      <th>Y</th>\n",
              "    </tr>\n",
              "  </thead>\n",
              "  <tbody>\n",
              "    <tr>\n",
              "      <th>0</th>\n",
              "      <td>2</td>\n",
              "      <td>5</td>\n",
              "    </tr>\n",
              "    <tr>\n",
              "      <th>1</th>\n",
              "      <td>6</td>\n",
              "      <td>5</td>\n",
              "    </tr>\n",
              "    <tr>\n",
              "      <th>2</th>\n",
              "      <td>2</td>\n",
              "      <td>4</td>\n",
              "    </tr>\n",
              "    <tr>\n",
              "      <th>3</th>\n",
              "      <td>2</td>\n",
              "      <td>2</td>\n",
              "    </tr>\n",
              "    <tr>\n",
              "      <th>4</th>\n",
              "      <td>5</td>\n",
              "      <td>4</td>\n",
              "    </tr>\n",
              "  </tbody>\n",
              "</table>\n",
              "</div>"
            ],
            "text/plain": [
              "   X  Y\n",
              "0  2  5\n",
              "1  6  5\n",
              "2  2  4\n",
              "3  2  2\n",
              "4  5  4"
            ]
          },
          "execution_count": 7,
          "metadata": {},
          "output_type": "execute_result"
        }
      ],
      "source": [
        "df.head()"
      ]
    },
    {
      "cell_type": "code",
      "execution_count": null,
      "id": "935b0dac",
      "metadata": {
        "id": "935b0dac"
      },
      "outputs": [],
      "source": [
        "from sklearn.cluster import AgglomerativeClustering"
      ]
    },
    {
      "cell_type": "markdown",
      "id": "168c544b",
      "metadata": {
        "id": "168c544b"
      },
      "source": [
        "Build the classifier"
      ]
    },
    {
      "cell_type": "code",
      "execution_count": null,
      "id": "6429f81a",
      "metadata": {
        "id": "6429f81a"
      },
      "outputs": [],
      "source": [
        "Agglo_clf = AgglomerativeClustering(affinity=\"euclidean\", linkage=\"single\")"
      ]
    },
    {
      "cell_type": "code",
      "execution_count": null,
      "id": "64c60285",
      "metadata": {
        "id": "64c60285",
        "outputId": "35c96a81-e6b1-4d82-b028-fe5ba3b66778"
      },
      "outputs": [
        {
          "data": {
            "text/plain": [
              "AgglomerativeClustering(linkage='single')"
            ]
          },
          "execution_count": 10,
          "metadata": {},
          "output_type": "execute_result"
        }
      ],
      "source": [
        "Agglo_clf.fit(df)"
      ]
    },
    {
      "cell_type": "code",
      "execution_count": null,
      "id": "708b4dd2",
      "metadata": {
        "id": "708b4dd2"
      },
      "outputs": [],
      "source": [
        "labels=Agglo_clf.labels_"
      ]
    },
    {
      "cell_type": "code",
      "execution_count": null,
      "id": "b8570acc",
      "metadata": {
        "id": "b8570acc",
        "outputId": "6e118cd5-37aa-4dde-8bf9-11493ac5ffc5"
      },
      "outputs": [
        {
          "data": {
            "text/plain": [
              "array([0, 1, 0, 0, 1], dtype=int64)"
            ]
          },
          "execution_count": 15,
          "metadata": {},
          "output_type": "execute_result"
        }
      ],
      "source": [
        "labels"
      ]
    },
    {
      "cell_type": "markdown",
      "id": "0ff3b96f",
      "metadata": {
        "id": "0ff3b96f"
      },
      "source": [
        "Dendrogram Plot"
      ]
    },
    {
      "cell_type": "code",
      "execution_count": null,
      "id": "feb3cb39",
      "metadata": {
        "id": "feb3cb39",
        "outputId": "43337bb7-f7c4-4ef0-ca50-80cc1d3514dc"
      },
      "outputs": [
        {
          "data": {
            "image/png": "[encoded data removed]",
            "text/plain": [
              "<Figure size 432x288 with 1 Axes>"
            ]
          },
          "metadata": {
            "needs_background": "light"
          },
          "output_type": "display_data"
        }
      ],
      "source": [
        "import scipy.cluster.hierarchy as sch\n",
        "dendro = sch.dendrogram(sch.linkage(df,\"single\", metric=\"euclidean\"))"
      ]
    },
    {
      "cell_type": "code",
      "execution_count": null,
      "id": "546b2741",
      "metadata": {
        "id": "546b2741",
        "outputId": "3d8f942b-6c13-43bd-b33d-77fc6c3a9716"
      },
      "outputs": [
        {
          "data": {
            "image/png": "[encoded data removed]",
            "text/plain": [
              "<Figure size 432x288 with 1 Axes>"
            ]
          },
          "metadata": {
            "needs_background": "light"
          },
          "output_type": "display_data"
        }
      ],
      "source": [
        "import matplotlib.pyplot as plt\n",
        "plt.scatter(points[:,0],points[:,1], c=labels )\n",
        "plt.show()"
      ]
    },
    {
      "cell_type": "code",
      "execution_count": null,
      "id": "7676fcf4",
      "metadata": {
        "id": "7676fcf4",
        "outputId": "3580f268-9fef-4475-8ff6-0c81ba459f03"
      },
      "outputs": [
        {
          "data": {
            "text/plain": [
              "0.5363379341497753"
            ]
          },
          "execution_count": 16,
          "metadata": {},
          "output_type": "execute_result"
        }
      ],
      "source": [
        "from sklearn import metrics\n",
        "metrics.silhouette_score(df, labels)"
      ]
    },
    {
      "cell_type": "markdown",
      "id": "3550b665",
      "metadata": {
        "id": "3550b665"
      },
      "source": [
        "# Iris Dataset"
      ]
    },
    {
      "cell_type": "code",
      "execution_count": null,
      "id": "f5191ba6",
      "metadata": {
        "id": "f5191ba6"
      },
      "outputs": [],
      "source": [
        "from sklearn import datasets\n",
        "iris = datasets.load_iris()"
      ]
    },
    {
      "cell_type": "code",
      "execution_count": null,
      "id": "7baea2c7",
      "metadata": {
        "id": "7baea2c7"
      },
      "outputs": [],
      "source": [
        "X= iris.data\n",
        "y=iris.target\n"
      ]
    },
    {
      "cell_type": "code",
      "execution_count": null,
      "id": "efe86bfd",
      "metadata": {
        "id": "efe86bfd",
        "outputId": "bc173b0e-c5f5-47c7-cd30-62574e0d76a3"
      },
      "outputs": [
        {
          "data": {
            "text/plain": [
              "<matplotlib.collections.PathCollection at 0x24cdfda6fd0>"
            ]
          },
          "execution_count": 21,
          "metadata": {},
          "output_type": "execute_result"
        },
        {
          "data": {
            "image/png": "[encoded data removed]",
            "text/plain": [
              "<Figure size 432x288 with 1 Axes>"
            ]
          },
          "metadata": {
            "needs_background": "light"
          },
          "output_type": "display_data"
        }
      ],
      "source": [
        "plt.scatter(X[:,0],X[:,1], c= y)"
      ]
    },
    {
      "cell_type": "markdown",
      "id": "34e1d092",
      "metadata": {
        "id": "34e1d092"
      },
      "source": [
        "Build the classifier"
      ]
    },
    {
      "cell_type": "code",
      "execution_count": null,
      "id": "3b8ba115",
      "metadata": {
        "id": "3b8ba115"
      },
      "outputs": [],
      "source": [
        "iris_clf = AgglomerativeClustering(n_clusters=3,affinity=\"euclidean\", linkage=\"ward\")"
      ]
    },
    {
      "cell_type": "code",
      "execution_count": null,
      "id": "890b0c31",
      "metadata": {
        "id": "890b0c31",
        "outputId": "bed5e569-9b01-4f34-f234-d01b7d2d7912"
      },
      "outputs": [
        {
          "data": {
            "text/plain": [
              "AgglomerativeClustering(n_clusters=3)"
            ]
          },
          "execution_count": 32,
          "metadata": {},
          "output_type": "execute_result"
        }
      ],
      "source": [
        "iris_clf.fit(X)"
      ]
    },
    {
      "cell_type": "code",
      "execution_count": null,
      "id": "c580615a",
      "metadata": {
        "id": "c580615a"
      },
      "outputs": [],
      "source": [
        "data_labels = iris_clf.labels_"
      ]
    },
    {
      "cell_type": "code",
      "execution_count": null,
      "id": "aba42934",
      "metadata": {
        "id": "aba42934",
        "outputId": "a55f666e-7cb5-4930-e42e-18ced6ed4009"
      },
      "outputs": [
        {
          "data": {
            "text/plain": [
              "array([1, 1, 1, 1, 1, 1, 1, 1, 1, 1, 1, 1, 1, 1, 1, 1, 1, 1, 1, 1, 1, 1,\n",
              "       1, 1, 1, 1, 1, 1, 1, 1, 1, 1, 1, 1, 1, 1, 1, 1, 1, 1, 1, 1, 1, 1,\n",
              "       1, 1, 1, 1, 1, 1, 0, 0, 0, 0, 0, 0, 0, 0, 0, 0, 0, 0, 0, 0, 0, 0,\n",
              "       0, 0, 0, 0, 0, 0, 0, 0, 0, 0, 0, 2, 0, 0, 0, 0, 0, 0, 0, 0, 0, 0,\n",
              "       0, 0, 0, 0, 0, 0, 0, 0, 0, 0, 0, 0, 2, 0, 2, 2, 2, 2, 0, 2, 2, 2,\n",
              "       2, 2, 2, 0, 0, 2, 2, 2, 2, 0, 2, 0, 2, 0, 2, 2, 0, 0, 2, 2, 2, 2,\n",
              "       2, 0, 0, 2, 2, 2, 0, 2, 2, 2, 0, 2, 2, 2, 0, 2, 2, 0], dtype=int64)"
            ]
          },
          "execution_count": 34,
          "metadata": {},
          "output_type": "execute_result"
        }
      ],
      "source": [
        "data_labels"
      ]
    },
    {
      "cell_type": "code",
      "execution_count": null,
      "id": "bf0dbb08",
      "metadata": {
        "id": "bf0dbb08",
        "outputId": "2e24d476-6872-45b3-923a-6e5155e35101"
      },
      "outputs": [
        {
          "data": {
            "text/plain": [
              "0.5543236611296419"
            ]
          },
          "execution_count": 35,
          "metadata": {},
          "output_type": "execute_result"
        }
      ],
      "source": [
        "metrics.silhouette_score(X, data_labels)"
      ]
    },
    {
      "cell_type": "code",
      "execution_count": null,
      "id": "fad5f9f9",
      "metadata": {
        "id": "fad5f9f9",
        "outputId": "513f8312-91bd-4103-d3ff-566ec4c62c9c"
      },
      "outputs": [
        {
          "data": {
            "image/png": "[encoded data removed]",
            "text/plain": [
              "<Figure size 2160x1080 with 1 Axes>"
            ]
          },
          "metadata": {
            "needs_background": "light"
          },
          "output_type": "display_data"
        }
      ],
      "source": [
        "plt.figure(figsize=(30,15))\n",
        "\n",
        "dendro2 = sch.dendrogram(sch.linkage(X,\"ward\", metric=\"euclidean\"))"
      ]
    },
    {
      "cell_type": "code",
      "execution_count": null,
      "id": "d3617ffe",
      "metadata": {
        "id": "d3617ffe",
        "outputId": "8706312d-1863-4a83-815e-456befd7951d"
      },
      "outputs": [
        {
          "data": {
            "text/plain": [
              "<matplotlib.collections.PathCollection at 0x24ce3541be0>"
            ]
          },
          "execution_count": 38,
          "metadata": {},
          "output_type": "execute_result"
        },
        {
          "data": {
            "image/png": "[encoded data removed]",
            "text/plain": [
              "<Figure size 432x288 with 1 Axes>"
            ]
          },
          "metadata": {
            "needs_background": "light"
          },
          "output_type": "display_data"
        }
      ],
      "source": [
        "plt.scatter(X[:,0],X[:,1], c= data_labels)"
      ]
    },
    {
      "cell_type": "code",
      "execution_count": null,
      "id": "8601d51f",
      "metadata": {
        "id": "8601d51f"
      },
      "outputs": [],
      "source": [
        "from scipy.spatial.distance import pdist"
      ]
    },
    {
      "cell_type": "code",
      "execution_count": null,
      "id": "bc686d42",
      "metadata": {
        "id": "bc686d42"
      },
      "outputs": [],
      "source": [
        "Y = pdist(X, \"euclidean\")"
      ]
    },
    {
      "cell_type": "code",
      "execution_count": null,
      "id": "096cd4b9",
      "metadata": {
        "id": "096cd4b9",
        "outputId": "5218c7e8-5e8f-4202-d9c1-5facf5b7c96d"
      },
      "outputs": [
        {
          "data": {
            "text/plain": [
              "array([0.53851648, 0.50990195, 0.64807407, ..., 0.6164414 , 0.64031242,\n",
              "       0.76811457])"
            ]
          },
          "execution_count": 42,
          "metadata": {},
          "output_type": "execute_result"
        }
      ],
      "source": [
        "Y"
      ]
    },
    {
      "cell_type": "code",
      "execution_count": null,
      "id": "934cad79",
      "metadata": {
        "id": "934cad79"
      },
      "outputs": [],
      "source": [
        "from scipy.spatial.distance import squareform\n",
        "V = squareform(Y)"
      ]
    },
    {
      "cell_type": "code",
      "execution_count": null,
      "id": "295eba07",
      "metadata": {
        "id": "295eba07",
        "outputId": "103db96a-d271-479b-ffd4-cfc17b3027a2"
      },
      "outputs": [
        {
          "data": {
            "text/plain": [
              "array([[0.        , 0.53851648, 0.50990195, ..., 4.45982062, 4.65080638,\n",
              "        4.14004831],\n",
              "       [0.53851648, 0.        , 0.3       , ..., 4.49888875, 4.71805044,\n",
              "        4.15331193],\n",
              "       [0.50990195, 0.3       , 0.        , ..., 4.66154481, 4.84871117,\n",
              "        4.29883705],\n",
              "       ...,\n",
              "       [4.45982062, 4.49888875, 4.66154481, ..., 0.        , 0.6164414 ,\n",
              "        0.64031242],\n",
              "       [4.65080638, 4.71805044, 4.84871117, ..., 0.6164414 , 0.        ,\n",
              "        0.76811457],\n",
              "       [4.14004831, 4.15331193, 4.29883705, ..., 0.64031242, 0.76811457,\n",
              "        0.        ]])"
            ]
          },
          "execution_count": 44,
          "metadata": {},
          "output_type": "execute_result"
        }
      ],
      "source": [
        "V"
      ]
    },
    {
      "cell_type": "code",
      "execution_count": null,
      "id": "d9db7f28",
      "metadata": {
        "id": "d9db7f28"
      },
      "outputs": [],
      "source": []
    }
  ],
  "metadata": {
    "kernelspec": {
      "display_name": "Python 3 (ipykernel)",
      "language": "python",
      "name": "python3"
    },
    "language_info": {
      "codemirror_mode": {
        "name": "ipython",
        "version": 3
      },
      "file_extension": ".py",
      "mimetype": "text/x-python",
      "name": "python",
      "nbconvert_exporter": "python",
      "pygments_lexer": "ipython3",
      "version": "3.9.12"
    },
    "colab": {
      "provenance": [],
      "include_colab_link": true
    }
  },
  "nbformat": 4,
  "nbformat_minor": 5
}