{
  "nbformat": 4,
  "nbformat_minor": 0,
  "metadata": {
    "colab": {
      "provenance": [],
      "authorship_tag": "ABX9TyMgJHW1uYl2jOGLHh6eNNjC",
      "include_colab_link": true
    },
    "kernelspec": {
      "name": "python3",
      "display_name": "Python 3"
    },
    "language_info": {
      "name": "python"
    }
  },
  "cells": [
    {
      "cell_type": "markdown",
      "metadata": {
        "id": "view-in-github",
        "colab_type": "text"
      },
      "source": [
        "<a href=\"https://colab.research.google.com/github/anaustinbeing/unsupervised-learning/blob/main/self_organizing_map_(credit_card_fraud_detection).ipynb\" target=\"_parent\"><img src=\"https://colab.research.google.com/assets/colab-badge.svg\" alt=\"Open In Colab\"/></a>"
      ]
    },
    {
      "cell_type": "markdown",
      "source": [
        "Installing the necessary module for SOM. Minisom is mini version of som package and is light-weight."
      ],
      "metadata": {
        "id": "2YOhVe8GXrzG"
      }
    },
    {
      "cell_type": "code",
      "execution_count": null,
      "metadata": {
        "colab": {
          "base_uri": "https://localhost:8080/"
        },
        "id": "5pMZsQkBXdya",
        "outputId": "1e0372f3-552b-4e5a-9e6b-8148c590e54d"
      },
      "outputs": [
        {
          "output_type": "stream",
          "name": "stdout",
          "text": [
            "Looking in indexes: https://pypi.org/simple, https://us-python.pkg.dev/colab-wheels/public/simple/\n",
            "Collecting MiniSom\n",
            "  Downloading MiniSom-2.3.0.tar.gz (8.8 kB)\n",
            "Building wheels for collected packages: MiniSom\n",
            "  Building wheel for MiniSom (setup.py) ... \u001b[?25l\u001b[?25hdone\n",
            "  Created wheel for MiniSom: filename=MiniSom-2.3.0-py3-none-any.whl size=9018 sha256=896921fed15fd47547887ebc7f44cc0a3289ef717321d0b3e6d2ab3750ab20cf\n",
            "  Stored in directory: /root/.cache/pip/wheels/d4/ca/4a/488772b0399fec45ff53132ed14c948dec4b30deee3a532f80\n",
            "Successfully built MiniSom\n",
            "Installing collected packages: MiniSom\n",
            "Successfully installed MiniSom-2.3.0\n"
          ]
        }
      ],
      "source": [
        "!pip install MiniSom"
      ]
    },
    {
      "cell_type": "code",
      "source": [
        "from minisom import MiniSom"
      ],
      "metadata": {
        "id": "voGlpKNbXtSm"
      },
      "execution_count": null,
      "outputs": []
    },
    {
      "cell_type": "code",
      "source": [
        "import numpy as np\n",
        "import pandas as pd\n",
        "import matplotlib.pyplot as plt\n",
        "from sklearn.preprocessing import MinMaxScaler"
      ],
      "metadata": {
        "id": "5OCLYs6OXxIp"
      },
      "execution_count": null,
      "outputs": []
    },
    {
      "cell_type": "code",
      "source": [
        "df = pd.read_csv('https://raw.githubusercontent.com/sethns/Self-Organizing-Maps/main/Credit_Card_Applications.csv')"
      ],
      "metadata": {
        "id": "19108AbIX-jK"
      },
      "execution_count": null,
      "outputs": []
    },
    {
      "cell_type": "code",
      "source": [
        "df.shape"
      ],
      "metadata": {
        "colab": {
          "base_uri": "https://localhost:8080/"
        },
        "id": "ttbdJPZhYUoY",
        "outputId": "055d1ba9-8728-4652-ea18-6c9e25294781"
      },
      "execution_count": null,
      "outputs": [
        {
          "output_type": "execute_result",
          "data": {
            "text/plain": [
              "(690, 16)"
            ]
          },
          "metadata": {},
          "execution_count": 6
        }
      ]
    },
    {
      "cell_type": "code",
      "source": [
        "df.head(5)"
      ],
      "metadata": {
        "colab": {
          "base_uri": "https://localhost:8080/",
          "height": 206
        },
        "id": "PbKfq0Z8YWrD",
        "outputId": "70ee19d0-a319-4096-c83a-f3307a62a3d0"
      },
      "execution_count": null,
      "outputs": [
        {
          "output_type": "execute_result",
          "data": {
            "text/plain": [
              "   CustomerID  A1     A2     A3  A4  A5  A6     A7  A8  A9  A10  A11  A12  \\\n",
              "0    15776156   1  22.08  11.46   2   4   4  1.585   0   0    0    1    2   \n",
              "1    15739548   0  22.67   7.00   2   8   4  0.165   0   0    0    0    2   \n",
              "2    15662854   0  29.58   1.75   1   4   4  1.250   0   0    0    1    2   \n",
              "3    15687688   0  21.67  11.50   1   5   3  0.000   1   1   11    1    2   \n",
              "4    15715750   1  20.17   8.17   2   6   4  1.960   1   1   14    0    2   \n",
              "\n",
              "   A13   A14  Class  \n",
              "0  100  1213      0  \n",
              "1  160     1      0  \n",
              "2  280     1      0  \n",
              "3    0     1      1  \n",
              "4   60   159      1  "
            ],
            "text/html": [
              "\n",
              "  <div id=\"df-ad7a637c-7413-4813-98cb-96b9ee036f39\">\n",
              "    <div class=\"colab-df-container\">\n",
              "      <div>\n",
              "<style scoped>\n",
              "    .dataframe tbody tr th:only-of-type {\n",
              "        vertical-align: middle;\n",
              "    }\n",
              "\n",
              "    .dataframe tbody tr th {\n",
              "        vertical-align: top;\n",
              "    }\n",
              "\n",
              "    .dataframe thead th {\n",
              "        text-align: right;\n",
              "    }\n",
              "</style>\n",
              "<table border=\"1\" class=\"dataframe\">\n",
              "  <thead>\n",
              "    <tr style=\"text-align: right;\">\n",
              "      <th></th>\n",
              "      <th>CustomerID</th>\n",
              "      <th>A1</th>\n",
              "      <th>A2</th>\n",
              "      <th>A3</th>\n",
              "      <th>A4</th>\n",
              "      <th>A5</th>\n",
              "      <th>A6</th>\n",
              "      <th>A7</th>\n",
              "      <th>A8</th>\n",
              "      <th>A9</th>\n",
              "      <th>A10</th>\n",
              "      <th>A11</th>\n",
              "      <th>A12</th>\n",
              "      <th>A13</th>\n",
              "      <th>A14</th>\n",
              "      <th>Class</th>\n",
              "    </tr>\n",
              "  </thead>\n",
              "  <tbody>\n",
              "    <tr>\n",
              "      <th>0</th>\n",
              "      <td>15776156</td>\n",
              "      <td>1</td>\n",
              "      <td>22.08</td>\n",
              "      <td>11.46</td>\n",
              "      <td>2</td>\n",
              "      <td>4</td>\n",
              "      <td>4</td>\n",
              "      <td>1.585</td>\n",
              "      <td>0</td>\n",
              "      <td>0</td>\n",
              "      <td>0</td>\n",
              "      <td>1</td>\n",
              "      <td>2</td>\n",
              "      <td>100</td>\n",
              "      <td>1213</td>\n",
              "      <td>0</td>\n",
              "    </tr>\n",
              "    <tr>\n",
              "      <th>1</th>\n",
              "      <td>15739548</td>\n",
              "      <td>0</td>\n",
              "      <td>22.67</td>\n",
              "      <td>7.00</td>\n",
              "      <td>2</td>\n",
              "      <td>8</td>\n",
              "      <td>4</td>\n",
              "      <td>0.165</td>\n",
              "      <td>0</td>\n",
              "      <td>0</td>\n",
              "      <td>0</td>\n",
              "      <td>0</td>\n",
              "      <td>2</td>\n",
              "      <td>160</td>\n",
              "      <td>1</td>\n",
              "      <td>0</td>\n",
              "    </tr>\n",
              "    <tr>\n",
              "      <th>2</th>\n",
              "      <td>15662854</td>\n",
              "      <td>0</td>\n",
              "      <td>29.58</td>\n",
              "      <td>1.75</td>\n",
              "      <td>1</td>\n",
              "      <td>4</td>\n",
              "      <td>4</td>\n",
              "      <td>1.250</td>\n",
              "      <td>0</td>\n",
              "      <td>0</td>\n",
              "      <td>0</td>\n",
              "      <td>1</td>\n",
              "      <td>2</td>\n",
              "      <td>280</td>\n",
              "      <td>1</td>\n",
              "      <td>0</td>\n",
              "    </tr>\n",
              "    <tr>\n",
              "      <th>3</th>\n",
              "      <td>15687688</td>\n",
              "      <td>0</td>\n",
              "      <td>21.67</td>\n",
              "      <td>11.50</td>\n",
              "      <td>1</td>\n",
              "      <td>5</td>\n",
              "      <td>3</td>\n",
              "      <td>0.000</td>\n",
              "      <td>1</td>\n",
              "      <td>1</td>\n",
              "      <td>11</td>\n",
              "      <td>1</td>\n",
              "      <td>2</td>\n",
              "      <td>0</td>\n",
              "      <td>1</td>\n",
              "      <td>1</td>\n",
              "    </tr>\n",
              "    <tr>\n",
              "      <th>4</th>\n",
              "      <td>15715750</td>\n",
              "      <td>1</td>\n",
              "      <td>20.17</td>\n",
              "      <td>8.17</td>\n",
              "      <td>2</td>\n",
              "      <td>6</td>\n",
              "      <td>4</td>\n",
              "      <td>1.960</td>\n",
              "      <td>1</td>\n",
              "      <td>1</td>\n",
              "      <td>14</td>\n",
              "      <td>0</td>\n",
              "      <td>2</td>\n",
              "      <td>60</td>\n",
              "      <td>159</td>\n",
              "      <td>1</td>\n",
              "    </tr>\n",
              "  </tbody>\n",
              "</table>\n",
              "</div>\n",
              "      <button class=\"colab-df-convert\" onclick=\"convertToInteractive('df-ad7a637c-7413-4813-98cb-96b9ee036f39')\"\n",
              "              title=\"Convert this dataframe to an interactive table.\"\n",
              "              style=\"display:none;\">\n",
              "        \n",
              "  <svg xmlns=\"http://www.w3.org/2000/svg\" height=\"24px\"viewBox=\"0 0 24 24\"\n",
              "       width=\"24px\">\n",
              "    <path d=\"M0 0h24v24H0V0z\" fill=\"none\"/>\n",
              "    <path d=\"M18.56 5.44l.94 2.06.94-2.06 2.06-.94-2.06-.94-.94-2.06-.94 2.06-2.06.94zm-11 1L8.5 8.5l.94-2.06 2.06-.94-2.06-.94L8.5 2.5l-.94 2.06-2.06.94zm10 10l.94 2.06.94-2.06 2.06-.94-2.06-.94-.94-2.06-.94 2.06-2.06.94z\"/><path d=\"M17.41 7.96l-1.37-1.37c-.4-.4-.92-.59-1.43-.59-.52 0-1.04.2-1.43.59L10.3 9.45l-7.72 7.72c-.78.78-.78 2.05 0 2.83L4 21.41c.39.39.9.59 1.41.59.51 0 1.02-.2 1.41-.59l7.78-7.78 2.81-2.81c.8-.78.8-2.07 0-2.86zM5.41 20L4 18.59l7.72-7.72 1.47 1.35L5.41 20z\"/>\n",
              "  </svg>\n",
              "      </button>\n",
              "      \n",
              "  <style>\n",
              "    .colab-df-container {\n",
              "      display:flex;\n",
              "      flex-wrap:wrap;\n",
              "      gap: 12px;\n",
              "    }\n",
              "\n",
              "    .colab-df-convert {\n",
              "      background-color: #E8F0FE;\n",
              "      border: none;\n",
              "      border-radius: 50%;\n",
              "      cursor: pointer;\n",
              "      display: none;\n",
              "      fill: #1967D2;\n",
              "      height: 32px;\n",
              "      padding: 0 0 0 0;\n",
              "      width: 32px;\n",
              "    }\n",
              "\n",
              "    .colab-df-convert:hover {\n",
              "      background-color: #E2EBFA;\n",
              "      box-shadow: 0px 1px 2px rgba(60, 64, 67, 0.3), 0px 1px 3px 1px rgba(60, 64, 67, 0.15);\n",
              "      fill: #174EA6;\n",
              "    }\n",
              "\n",
              "    [theme=dark] .colab-df-convert {\n",
              "      background-color: #3B4455;\n",
              "      fill: #D2E3FC;\n",
              "    }\n",
              "\n",
              "    [theme=dark] .colab-df-convert:hover {\n",
              "      background-color: #434B5C;\n",
              "      box-shadow: 0px 1px 3px 1px rgba(0, 0, 0, 0.15);\n",
              "      filter: drop-shadow(0px 1px 2px rgba(0, 0, 0, 0.3));\n",
              "      fill: #FFFFFF;\n",
              "    }\n",
              "  </style>\n",
              "\n",
              "      <script>\n",
              "        const buttonEl =\n",
              "          document.querySelector('#df-ad7a637c-7413-4813-98cb-96b9ee036f39 button.colab-df-convert');\n",
              "        buttonEl.style.display =\n",
              "          google.colab.kernel.accessAllowed ? 'block' : 'none';\n",
              "\n",
              "        async function convertToInteractive(key) {\n",
              "          const element = document.querySelector('#df-ad7a637c-7413-4813-98cb-96b9ee036f39');\n",
              "          const dataTable =\n",
              "            await google.colab.kernel.invokeFunction('convertToInteractive',\n",
              "                                                     [key], {});\n",
              "          if (!dataTable) return;\n",
              "\n",
              "          const docLinkHtml = 'Like what you see? Visit the ' +\n",
              "            '<a target=\"_blank\" href=https://colab.research.google.com/notebooks/data_table.ipynb>data table notebook</a>'\n",
              "            + ' to learn more about interactive tables.';\n",
              "          element.innerHTML = '';\n",
              "          dataTable['output_type'] = 'display_data';\n",
              "          await google.colab.output.renderOutput(dataTable, element);\n",
              "          const docLink = document.createElement('div');\n",
              "          docLink.innerHTML = docLinkHtml;\n",
              "          element.appendChild(docLink);\n",
              "        }\n",
              "      </script>\n",
              "    </div>\n",
              "  </div>\n",
              "  "
            ]
          },
          "metadata": {},
          "execution_count": 8
        }
      ]
    },
    {
      "cell_type": "markdown",
      "source": [
        "Class: 1 -> Credit card application accepted\n",
        "\n",
        "Class: 0 -> Credit card application rejected"
      ],
      "metadata": {
        "id": "rQ-iMRfPYck5"
      }
    },
    {
      "cell_type": "code",
      "source": [
        "X = df.drop('Class', axis=1)\n",
        "y = df['Class']"
      ],
      "metadata": {
        "id": "kJsZpnVbYbtb"
      },
      "execution_count": null,
      "outputs": []
    },
    {
      "cell_type": "code",
      "source": [
        "sc = MinMaxScaler()\n",
        "X = sc.fit_transform(X)"
      ],
      "metadata": {
        "id": "yypn8anXYv38"
      },
      "execution_count": null,
      "outputs": []
    },
    {
      "cell_type": "markdown",
      "source": [
        "### Build the model"
      ],
      "metadata": {
        "id": "m-D_KAqMY80C"
      }
    },
    {
      "cell_type": "code",
      "source": [
        "som = MiniSom(10, 10, input_len=X.shape[1], sigma=4, learning_rate=0.5)  # Creating a 10 x 10 SOM"
      ],
      "metadata": {
        "id": "TLo-Fk-OY7XR"
      },
      "execution_count": null,
      "outputs": []
    },
    {
      "cell_type": "code",
      "source": [
        "som.random_weights_init(X)"
      ],
      "metadata": {
        "id": "mSkGOZQXZakP"
      },
      "execution_count": null,
      "outputs": []
    },
    {
      "cell_type": "code",
      "source": [
        "som.train_random(X, num_iteration=100, verbose=True)"
      ],
      "metadata": {
        "colab": {
          "base_uri": "https://localhost:8080/"
        },
        "id": "AD1_27-UZejt",
        "outputId": "bd33af91-6f55-477f-d9ca-fbab9fe95a27"
      },
      "execution_count": null,
      "outputs": [
        {
          "output_type": "stream",
          "name": "stdout",
          "text": [
            "\r [   0 / 100 ]   0% - ? it/s\r [   0 / 100 ]   0% - ? it/s\r [   1 / 100 ]   1% - 0:00:00 left \r [   2 / 100 ]   2% - 0:00:00 left \r [   3 / 100 ]   3% - 0:00:00 left \r [   4 / 100 ]   4% - 0:00:00 left \r [   5 / 100 ]   5% - 0:00:00 left \r [   6 / 100 ]   6% - 0:00:00 left \r [   7 / 100 ]   7% - 0:00:00 left \r [   8 / 100 ]   8% - 0:00:00 left \r [   9 / 100 ]   9% - 0:00:00 left \r [  10 / 100 ]  10% - 0:00:00 left \r [  11 / 100 ]  11% - 0:00:00 left \r [  12 / 100 ]  12% - 0:00:00 left \r [  13 / 100 ]  13% - 0:00:00 left \r [  14 / 100 ]  14% - 0:00:00 left \r [  15 / 100 ]  15% - 0:00:00 left \r [  16 / 100 ]  16% - 0:00:00 left \r [  17 / 100 ]  17% - 0:00:00 left \r [  18 / 100 ]  18% - 0:00:00 left \r [  19 / 100 ]  19% - 0:00:00 left \r [  20 / 100 ]  20% - 0:00:00 left \r [  21 / 100 ]  21% - 0:00:00 left \r [  22 / 100 ]  22% - 0:00:00 left \r [  23 / 100 ]  23% - 0:00:00 left \r [  24 / 100 ]  24% - 0:00:00 left \r [  25 / 100 ]  25% - 0:00:00 left \r [  26 / 100 ]  26% - 0:00:00 left \r [  27 / 100 ]  27% - 0:00:00 left \r [  28 / 100 ]  28% - 0:00:00 left \r [  29 / 100 ]  29% - 0:00:00 left \r [  30 / 100 ]  30% - 0:00:00 left \r [  31 / 100 ]  31% - 0:00:00 left \r [  32 / 100 ]  32% - 0:00:00 left \r [  33 / 100 ]  33% - 0:00:00 left \r [  34 / 100 ]  34% - 0:00:00 left \r [  35 / 100 ]  35% - 0:00:00 left \r [  36 / 100 ]  36% - 0:00:00 left \r [  37 / 100 ]  37% - 0:00:00 left \r [  38 / 100 ]  38% - 0:00:00 left \r [  39 / 100 ]  39% - 0:00:00 left \r [  40 / 100 ]  40% - 0:00:00 left \r [  41 / 100 ]  41% - 0:00:00 left \r [  42 / 100 ]  42% - 0:00:00 left \r [  43 / 100 ]  43% - 0:00:00 left \r [  44 / 100 ]  44% - 0:00:00 left \r [  45 / 100 ]  45% - 0:00:00 left \r [  46 / 100 ]  46% - 0:00:00 left \r [  47 / 100 ]  47% - 0:00:00 left \r [  48 / 100 ]  48% - 0:00:00 left \r [  49 / 100 ]  49% - 0:00:00 left \r [  50 / 100 ]  50% - 0:00:00 left \r [  51 / 100 ]  51% - 0:00:00 left \r [  52 / 100 ]  52% - 0:00:00 left \r [  53 / 100 ]  53% - 0:00:00 left \r [  54 / 100 ]  54% - 0:00:00 left \r [  55 / 100 ]  55% - 0:00:00 left \r [  56 / 100 ]  56% - 0:00:00 left \r [  57 / 100 ]  57% - 0:00:00 left \r [  58 / 100 ]  58% - 0:00:00 left \r [  59 / 100 ]  59% - 0:00:00 left \r [  60 / 100 ]  60% - 0:00:00 left \r [  61 / 100 ]  61% - 0:00:00 left \r [  62 / 100 ]  62% - 0:00:00 left \r [  63 / 100 ]  63% - 0:00:00 left \r [  64 / 100 ]  64% - 0:00:00 left \r [  65 / 100 ]  65% - 0:00:00 left \r [  66 / 100 ]  66% - 0:00:00 left \r [  67 / 100 ]  67% - 0:00:00 left \r [  68 / 100 ]  68% - 0:00:00 left \r [  69 / 100 ]  69% - 0:00:00 left \r [  70 / 100 ]  70% - 0:00:00 left \r [  71 / 100 ]  71% - 0:00:00 left \r [  72 / 100 ]  72% - 0:00:00 left \r [  73 / 100 ]  73% - 0:00:00 left \r [  74 / 100 ]  74% - 0:00:00 left \r [  75 / 100 ]  75% - 0:00:00 left \r [  76 / 100 ]  76% - 0:00:00 left \r [  77 / 100 ]  77% - 0:00:00 left \r [  78 / 100 ]  78% - 0:00:00 left \r [  79 / 100 ]  79% - 0:00:00 left \r [  80 / 100 ]  80% - 0:00:00 left \r [  81 / 100 ]  81% - 0:00:00 left \r [  82 / 100 ]  82% - 0:00:00 left \r [  83 / 100 ]  83% - 0:00:00 left \r [  84 / 100 ]  84% - 0:00:00 left \r [  85 / 100 ]  85% - 0:00:00 left \r [  86 / 100 ]  86% - 0:00:00 left \r [  87 / 100 ]  87% - 0:00:00 left \r [  88 / 100 ]  88% - 0:00:00 left \r [  89 / 100 ]  89% - 0:00:00 left \r [  90 / 100 ]  90% - 0:00:00 left \r [  91 / 100 ]  91% - 0:00:00 left \r [  92 / 100 ]  92% - 0:00:00 left \r [  93 / 100 ]  93% - 0:00:00 left \r [  94 / 100 ]  94% - 0:00:00 left \r [  95 / 100 ]  95% - 0:00:00 left \r [  96 / 100 ]  96% - 0:00:00 left \r [  97 / 100 ]  97% - 0:00:00 left \r [  98 / 100 ]  98% - 0:00:00 left \r [  99 / 100 ]  99% - 0:00:00 left \r [ 100 / 100 ] 100% - 0:00:00 left \n",
            " quantization error: 0.7096726044308841\n"
          ]
        }
      ]
    },
    {
      "cell_type": "code",
      "source": [
        "som.distance_map()"
      ],
      "metadata": {
        "colab": {
          "base_uri": "https://localhost:8080/"
        },
        "id": "8ljBcwLCZqZr",
        "outputId": "57938772-ca85-4015-dc3d-19758799f0a0"
      },
      "execution_count": null,
      "outputs": [
        {
          "output_type": "execute_result",
          "data": {
            "text/plain": [
              "array([[0.13596415, 0.24000419, 0.20519416, 0.21386407, 0.34254335,\n",
              "        0.47648836, 0.43298492, 0.36052301, 0.34400812, 0.18053589],\n",
              "       [0.33934467, 0.50439141, 0.44541499, 0.42690845, 0.58719217,\n",
              "        0.78490762, 0.76720635, 0.64757261, 0.60219296, 0.34804634],\n",
              "       [0.36589906, 0.60329633, 0.60892155, 0.58912821, 0.69893417,\n",
              "        0.88566767, 0.92595995, 0.79937152, 0.60200285, 0.31899351],\n",
              "       [0.33913428, 0.59628862, 0.6876289 , 0.70417037, 0.76626133,\n",
              "        0.90892677, 1.        , 0.9323935 , 0.72095137, 0.36480186],\n",
              "       [0.37625942, 0.66995066, 0.78936497, 0.80526359, 0.81201537,\n",
              "        0.86135581, 0.93895366, 0.98515689, 0.89846447, 0.51297268],\n",
              "       [0.47702819, 0.80544512, 0.90330777, 0.91867835, 0.89104119,\n",
              "        0.86222164, 0.89081881, 0.97267583, 0.97361078, 0.58078144],\n",
              "       [0.53161846, 0.85715951, 0.90239872, 0.9206037 , 0.88025465,\n",
              "        0.79812081, 0.80012567, 0.90961743, 0.93803596, 0.54861748],\n",
              "       [0.47226289, 0.7325103 , 0.78058207, 0.80968202, 0.71372246,\n",
              "        0.54918244, 0.56686411, 0.767365  , 0.85741924, 0.48876009],\n",
              "       [0.33193025, 0.54813073, 0.641242  , 0.7199338 , 0.56750013,\n",
              "        0.35075817, 0.39139476, 0.67247377, 0.81026213, 0.44161019],\n",
              "       [0.1329576 , 0.30334439, 0.38468116, 0.46193504, 0.34339125,\n",
              "        0.1789354 , 0.21551541, 0.4387989 , 0.52523923, 0.27231649]])"
            ]
          },
          "metadata": {},
          "execution_count": 16
        }
      ]
    },
    {
      "cell_type": "code",
      "source": [
        "som.get_weights()"
      ],
      "metadata": {
        "colab": {
          "base_uri": "https://localhost:8080/"
        },
        "id": "biGP2dx7ZvbE",
        "outputId": "58371173-b591-4e8a-861d-0939e5aed17e"
      },
      "execution_count": null,
      "outputs": [
        {
          "output_type": "execute_result",
          "data": {
            "text/plain": [
              "array([[[5.10182745e-01, 9.97509665e-01, 2.61146268e-01, ...,\n",
              "         4.99276373e-01, 1.13292218e-01, 1.07687719e-02],\n",
              "        [4.73246760e-01, 9.95408355e-01, 2.47915403e-01, ...,\n",
              "         4.99687929e-01, 1.13530344e-01, 1.62129408e-02],\n",
              "        [4.30171372e-01, 9.86066019e-01, 2.43734996e-01, ...,\n",
              "         4.99790532e-01, 1.06298518e-01, 2.56779074e-02],\n",
              "        ...,\n",
              "        [5.90217781e-01, 1.07940480e-01, 3.10336476e-01, ...,\n",
              "         4.99134434e-01, 4.21627693e-02, 4.56408674e-03],\n",
              "        [5.67461718e-01, 5.94132464e-02, 2.87794261e-01, ...,\n",
              "         4.99249268e-01, 3.83309760e-02, 4.76919724e-03],\n",
              "        [5.27509345e-01, 4.60501423e-02, 2.60608340e-01, ...,\n",
              "         4.99079316e-01, 3.94106825e-02, 5.48487481e-03]],\n",
              "\n",
              "       [[5.33108027e-01, 9.97872433e-01, 2.63118453e-01, ...,\n",
              "         4.99050712e-01, 9.26631939e-02, 9.99980874e-03],\n",
              "        [5.01841229e-01, 9.95866434e-01, 2.53955530e-01, ...,\n",
              "         4.99518387e-01, 9.65919834e-02, 1.41909721e-02],\n",
              "        [4.67810297e-01, 9.87207800e-01, 2.49279003e-01, ...,\n",
              "         4.99526215e-01, 9.56378282e-02, 2.18177279e-02],\n",
              "        ...,\n",
              "        [5.75645282e-01, 1.10789474e-01, 3.04138084e-01, ...,\n",
              "         4.97318316e-01, 4.19035286e-02, 5.16847567e-03],\n",
              "        [5.38060649e-01, 4.87541506e-02, 2.73074545e-01, ...,\n",
              "         4.98477128e-01, 3.81267601e-02, 5.62762002e-03],\n",
              "        [5.00509353e-01, 3.42121836e-02, 2.48581615e-01, ...,\n",
              "         4.98884158e-01, 3.81706577e-02, 6.41485451e-03]],\n",
              "\n",
              "       [[5.34347359e-01, 9.98088745e-01, 2.72667559e-01, ...,\n",
              "         4.96416031e-01, 6.06261383e-02, 9.21994670e-03],\n",
              "        [5.28838815e-01, 9.96108733e-01, 2.67367621e-01, ...,\n",
              "         4.98903976e-01, 6.79515458e-02, 1.08270748e-02],\n",
              "        [5.24651100e-01, 9.87452329e-01, 2.65000427e-01, ...,\n",
              "         4.98488091e-01, 7.79743170e-02, 1.41713840e-02],\n",
              "        ...,\n",
              "        [5.57550271e-01, 1.70001101e-01, 2.99718783e-01, ...,\n",
              "         4.89611837e-01, 4.36640606e-02, 5.82868276e-03],\n",
              "        [5.12503341e-01, 6.79939885e-02, 2.63881413e-01, ...,\n",
              "         4.95146506e-01, 3.91854063e-02, 6.53140679e-03],\n",
              "        [4.80159770e-01, 3.68702485e-02, 2.39965629e-01, ...,\n",
              "         4.97582050e-01, 3.88444059e-02, 7.09124126e-03]],\n",
              "\n",
              "       ...,\n",
              "\n",
              "       [[3.70157098e-01, 9.97017132e-01, 3.26446611e-01, ...,\n",
              "         4.82062853e-01, 7.29527649e-02, 6.04786385e-03],\n",
              "        [3.83060546e-01, 9.95843331e-01, 3.28531708e-01, ...,\n",
              "         4.85452465e-01, 8.40605913e-02, 4.82853248e-03],\n",
              "        [4.12775247e-01, 9.89770792e-01, 3.16113850e-01, ...,\n",
              "         4.86056472e-01, 9.04816093e-02, 3.79387850e-03],\n",
              "        ...,\n",
              "        [5.99981915e-01, 7.42627527e-01, 2.32264389e-01, ...,\n",
              "         4.74630610e-01, 7.90464479e-02, 1.64159907e-03],\n",
              "        [5.34470392e-01, 4.59466504e-01, 2.27923797e-01, ...,\n",
              "         4.74485958e-01, 9.35789144e-02, 1.96051626e-03],\n",
              "        [4.88999272e-01, 2.22463031e-01, 2.24655258e-01, ...,\n",
              "         4.73961704e-01, 1.06471378e-01, 2.25969017e-03]],\n",
              "\n",
              "       [[3.60457986e-01, 9.97460414e-01, 3.39090332e-01, ...,\n",
              "         4.81486415e-01, 8.94370835e-02, 3.84103753e-03],\n",
              "        [3.72880349e-01, 9.92854322e-01, 3.42514835e-01, ...,\n",
              "         4.87684124e-01, 9.95617269e-02, 2.73313873e-03],\n",
              "        [4.09510704e-01, 9.94061322e-01, 3.29925188e-01, ...,\n",
              "         4.90762139e-01, 1.02957353e-01, 2.11463060e-03],\n",
              "        ...,\n",
              "        [5.98274193e-01, 7.79975262e-01, 2.09717053e-01, ...,\n",
              "         4.91593581e-01, 8.18982026e-02, 1.07781575e-03],\n",
              "        [4.87815300e-01, 4.66964538e-01, 2.00273762e-01, ...,\n",
              "         4.87742334e-01, 1.02430309e-01, 1.26450142e-03],\n",
              "        [4.11501895e-01, 2.04811379e-01, 1.95622524e-01, ...,\n",
              "         4.83050740e-01, 1.18971246e-01, 1.39466900e-03]],\n",
              "\n",
              "       [[3.64700836e-01, 9.97333709e-01, 3.37000653e-01, ...,\n",
              "         4.79255206e-01, 9.53846397e-02, 4.35705118e-03],\n",
              "        [3.81998658e-01, 9.97389056e-01, 3.38479945e-01, ...,\n",
              "         4.90311157e-01, 1.05892716e-01, 1.79628340e-03],\n",
              "        [4.12540160e-01, 9.96480782e-01, 3.31341902e-01, ...,\n",
              "         4.92268249e-01, 1.08421578e-01, 1.47680911e-03],\n",
              "        ...,\n",
              "        [5.73411344e-01, 7.71376117e-01, 1.99822885e-01, ...,\n",
              "         4.95873025e-01, 8.84950386e-02, 9.25312780e-04],\n",
              "        [4.47935674e-01, 4.48762792e-01, 1.87223720e-01, ...,\n",
              "         4.91222789e-01, 1.10413640e-01, 9.93150253e-04],\n",
              "        [3.64248882e-01, 1.89102252e-01, 1.80914316e-01, ...,\n",
              "         4.85250930e-01, 1.27745897e-01, 1.02744930e-03]]])"
            ]
          },
          "metadata": {},
          "execution_count": 17
        }
      ]
    },
    {
      "cell_type": "markdown",
      "source": [
        "### Visualize"
      ],
      "metadata": {
        "id": "bA85H0i3Z_jF"
      }
    },
    {
      "cell_type": "code",
      "source": [
        "from pylab import bone, pcolor, colorbar, plot, show"
      ],
      "metadata": {
        "id": "mye528igaCyH"
      },
      "execution_count": null,
      "outputs": []
    },
    {
      "cell_type": "code",
      "source": [
        "mappings = som.win_map(X)"
      ],
      "metadata": {
        "id": "bXMy6a20b3Rx"
      },
      "execution_count": null,
      "outputs": []
    },
    {
      "cell_type": "code",
      "source": [
        "mappings.keys()"
      ],
      "metadata": {
        "colab": {
          "base_uri": "https://localhost:8080/"
        },
        "id": "I6_XIOOEb6Vp",
        "outputId": "fb3a5e58-8302-4f43-b3c6-e81b1b992f80"
      },
      "execution_count": null,
      "outputs": [
        {
          "output_type": "execute_result",
          "data": {
            "text/plain": [
              "dict_keys([(9, 2), (7, 9), (9, 9), (0, 7), (3, 0), (2, 9), (8, 5), (7, 6), (0, 6), (0, 1), (0, 2), (0, 3), (0, 0), (9, 1), (9, 4), (3, 9), (8, 6), (5, 0), (7, 0), (4, 4), (5, 6), (9, 6), (7, 5), (0, 4), (0, 9), (6, 9), (5, 9), (1, 4), (9, 5), (5, 8), (8, 9), (4, 0), (3, 8), (6, 0), (9, 7), (2, 4), (2, 3), (8, 4), (3, 6), (1, 3), (8, 0), (8, 7), (3, 1)])"
            ]
          },
          "metadata": {},
          "execution_count": 20
        }
      ]
    },
    {
      "cell_type": "code",
      "source": [
        "len(mappings.keys())"
      ],
      "metadata": {
        "colab": {
          "base_uri": "https://localhost:8080/"
        },
        "id": "UdJYarqDb-Ez",
        "outputId": "d6b9a0ff-3c7e-49a7-dc95-99a338bd5838"
      },
      "execution_count": null,
      "outputs": [
        {
          "output_type": "execute_result",
          "data": {
            "text/plain": [
              "43"
            ]
          },
          "metadata": {},
          "execution_count": 21
        }
      ]
    },
    {
      "cell_type": "code",
      "source": [
        "frauds = np.concatenate(mappings[])"
      ],
      "metadata": {
        "id": "CM_-1c87dA8L"
      },
      "execution_count": null,
      "outputs": []
    }
  ]
}