{
  "nbformat": 4,
  "nbformat_minor": 0,
  "metadata": {
    "colab": {
      "provenance": [],
      "collapsed_sections": [],
      "authorship_tag": "ABX9TyNPlb31dwL5OY0jtBxWP217",
      "include_colab_link": true
    },
    "kernelspec": {
      "name": "python3",
      "display_name": "Python 3"
    },
    "language_info": {
      "name": "python"
    }
  },
  "cells": [
    {
      "cell_type": "markdown",
      "metadata": {
        "id": "view-in-github",
        "colab_type": "text"
      },
      "source": [
        "<a href=\"https://colab.research.google.com/github/anaustinbeing/unsupervised-learning/blob/main/hierarchical_clustering.ipynb\" target=\"_parent\"><img src=\"https://colab.research.google.com/assets/colab-badge.svg\" alt=\"Open In Colab\"/></a>"
      ]
    },
    {
      "cell_type": "code",
      "execution_count": null,
      "metadata": {
        "id": "PMrCkBYu98kC"
      },
      "outputs": [],
      "source": [
        "import scipy.cluster.hierarchy as sch\n",
        "import numpy as np\n",
        "import pandas as pd\n",
        "import matplotlib.pyplot as plt"
      ]
    },
    {
      "cell_type": "code",
      "source": [
        "input_dataset = np.array([[2, 5], [6, 5], [2, 4], [2, 2], [5, 4]])"
      ],
      "metadata": {
        "id": "SfWkGeg6-Swj"
      },
      "execution_count": null,
      "outputs": []
    },
    {
      "cell_type": "code",
      "source": [
        "plt.scatter(input_dataset[:,0], input_dataset[:,1])\n",
        "plt.show()"
      ],
      "metadata": {
        "colab": {
          "base_uri": "https://localhost:8080/",
          "height": 265
        },
        "id": "_vPqORYK-rtr",
        "outputId": "35c94228-51d0-4dd5-fb5b-662b5f180fd7"
      },
      "execution_count": null,
      "outputs": [
        {
          "output_type": "display_data",
          "data": {
            "text/plain": [
              "<Figure size 432x288 with 1 Axes>"
            ],
            "image/png": "[encoded data removed]"
          },
          "metadata": {
            "needs_background": "light"
          }
        }
      ]
    },
    {
      "cell_type": "code",
      "source": [
        "df = pd.DataFrame(input_dataset, columns=['x', 'y'])"
      ],
      "metadata": {
        "id": "cVjKJ0lN-_cM"
      },
      "execution_count": null,
      "outputs": []
    },
    {
      "cell_type": "markdown",
      "source": [
        "Building the classifier."
      ],
      "metadata": {
        "id": "cJGJ15n4_jqZ"
      }
    },
    {
      "cell_type": "code",
      "source": [
        "from sklearn.cluster import AgglomerativeClustering\n",
        "\n",
        "aggl_classifier = AgglomerativeClustering(linkage='single')"
      ],
      "metadata": {
        "id": "7XcxS9wX_N6F"
      },
      "execution_count": null,
      "outputs": []
    },
    {
      "cell_type": "code",
      "source": [
        "aggl_classifier.fit(df)"
      ],
      "metadata": {
        "colab": {
          "base_uri": "https://localhost:8080/"
        },
        "id": "uGbEtofK_1pF",
        "outputId": "1d2be3e6-cfbd-485c-a84c-b54f64db2cea"
      },
      "execution_count": null,
      "outputs": [
        {
          "output_type": "execute_result",
          "data": {
            "text/plain": [
              "AgglomerativeClustering(linkage='single')"
            ]
          },
          "metadata": {},
          "execution_count": 16
        }
      ]
    },
    {
      "cell_type": "code",
      "source": [
        "aggl_classifier.labels_"
      ],
      "metadata": {
        "colab": {
          "base_uri": "https://localhost:8080/"
        },
        "id": "WJxU2gD2_8C2",
        "outputId": "0e7655b0-d8cb-41fd-e7ef-6e2337542a1a"
      },
      "execution_count": null,
      "outputs": [
        {
          "output_type": "execute_result",
          "data": {
            "text/plain": [
              "array([0, 1, 0, 0, 1])"
            ]
          },
          "metadata": {},
          "execution_count": 17
        }
      ]
    },
    {
      "cell_type": "code",
      "source": [
        "sch.dendrogram(sch.linkage(df, 'single'))"
      ],
      "metadata": {
        "colab": {
          "base_uri": "https://localhost:8080/",
          "height": 476
        },
        "id": "GugiG4ws_-2F",
        "outputId": "6d42722a-dc3c-40f4-f3e5-9b6c44808512"
      },
      "execution_count": null,
      "outputs": [
        {
          "output_type": "execute_result",
          "data": {
            "text/plain": [
              "{'icoord': [[5.0, 5.0, 15.0, 15.0],\n",
              "  [35.0, 35.0, 45.0, 45.0],\n",
              "  [25.0, 25.0, 40.0, 40.0],\n",
              "  [10.0, 10.0, 32.5, 32.5]],\n",
              " 'dcoord': [[0.0, 1.4142135623730951, 1.4142135623730951, 0.0],\n",
              "  [0.0, 1.0, 1.0, 0.0],\n",
              "  [0.0, 2.0, 2.0, 1.0],\n",
              "  [1.4142135623730951, 3.0, 3.0, 2.0]],\n",
              " 'ivl': ['1', '4', '3', '0', '2'],\n",
              " 'leaves': [1, 4, 3, 0, 2],\n",
              " 'color_list': ['C1', 'C2', 'C2', 'C0'],\n",
              " 'leaves_color_list': ['C1', 'C1', 'C2', 'C2', 'C2']}"
            ]
          },
          "metadata": {},
          "execution_count": 23
        },
        {
          "output_type": "display_data",
          "data": {
            "text/plain": [
              "<Figure size 432x288 with 1 Axes>"
            ],
            "image/png": "[encoded data removed]"
          },
          "metadata": {
            "needs_background": "light"
          }
        }
      ]
    },
    {
      "cell_type": "code",
      "source": [
        "plt.scatter(input_dataset[:,0], input_dataset[:,1], c=aggl_classifier.labels_)\n",
        "plt.show()"
      ],
      "metadata": {
        "colab": {
          "base_uri": "https://localhost:8080/",
          "height": 265
        },
        "id": "1U8bAoSeAurp",
        "outputId": "2c8c2ad8-5764-488f-f53c-bbd0893387ac"
      },
      "execution_count": null,
      "outputs": [
        {
          "output_type": "display_data",
          "data": {
            "text/plain": [
              "<Figure size 432x288 with 1 Axes>"
            ],
            "image/png": "[encoded data removed]"
          },
          "metadata": {
            "needs_background": "light"
          }
        }
      ]
    },
    {
      "cell_type": "code",
      "source": [
        "from sklearn.metrics import silhouette_score\n",
        "\n",
        "silhouette_score(input_dataset, aggl_classifier.labels_)"
      ],
      "metadata": {
        "colab": {
          "base_uri": "https://localhost:8080/"
        },
        "id": "9X7t0ap_BDZu",
        "outputId": "a295995f-50e8-4acf-cb87-07eaa8b1721b"
      },
      "execution_count": null,
      "outputs": [
        {
          "output_type": "execute_result",
          "data": {
            "text/plain": [
              "0.5363379341497753"
            ]
          },
          "metadata": {},
          "execution_count": 25
        }
      ]
    },
    {
      "cell_type": "markdown",
      "source": [
        "Working with Iris Dataset."
      ],
      "metadata": {
        "id": "F5dtBabeBi8E"
      }
    },
    {
      "cell_type": "code",
      "source": [
        "from sklearn import datasets\n",
        "iris_data = datasets.load_iris()"
      ],
      "metadata": {
        "id": "UvkAYZUYBcHk"
      },
      "execution_count": null,
      "outputs": []
    },
    {
      "cell_type": "code",
      "source": [
        "x, y = iris_data.data, iris_data.target"
      ],
      "metadata": {
        "id": "GdkxJ8WIBw9t"
      },
      "execution_count": null,
      "outputs": []
    },
    {
      "cell_type": "code",
      "source": [
        "plt.scatter(x[:,0], x[:,1], c=y) # c is for setting colours\n",
        "plt.show()"
      ],
      "metadata": {
        "colab": {
          "base_uri": "https://localhost:8080/",
          "height": 268
        },
        "id": "tYj1SBCYB1jf",
        "outputId": "b0fce3da-032e-4d61-d9ab-4791d9724a4f"
      },
      "execution_count": null,
      "outputs": [
        {
          "output_type": "display_data",
          "data": {
            "text/plain": [
              "<Figure size 432x288 with 1 Axes>"
            ],
            "image/png": "[encoded data removed]"
          },
          "metadata": {
            "needs_background": "light"
          }
        }
      ]
    },
    {
      "cell_type": "markdown",
      "source": [
        "Three different classes, so three clusters."
      ],
      "metadata": {
        "id": "4rBkZtN4CFZ9"
      }
    },
    {
      "cell_type": "code",
      "source": [
        "iris_classifier = AgglomerativeClustering(n_clusters=3, linkage='ward') # 3 because we know there are 3 classes\n",
        "iris_classifier.fit(x)"
      ],
      "metadata": {
        "colab": {
          "base_uri": "https://localhost:8080/"
        },
        "id": "PzADrHm7CJ93",
        "outputId": "b56237d5-9b5e-4129-8853-846d40d4cf3e"
      },
      "execution_count": null,
      "outputs": [
        {
          "output_type": "execute_result",
          "data": {
            "text/plain": [
              "AgglomerativeClustering(n_clusters=3)"
            ]
          },
          "metadata": {},
          "execution_count": 46
        }
      ]
    },
    {
      "cell_type": "code",
      "source": [
        "iris_classifier.labels_"
      ],
      "metadata": {
        "colab": {
          "base_uri": "https://localhost:8080/"
        },
        "id": "PPiBeLb9Cx6W",
        "outputId": "2653ed94-c611-4876-d1bb-84f56b1ea275"
      },
      "execution_count": null,
      "outputs": [
        {
          "output_type": "execute_result",
          "data": {
            "text/plain": [
              "array([1, 1, 1, 1, 1, 1, 1, 1, 1, 1, 1, 1, 1, 1, 1, 1, 1, 1, 1, 1, 1, 1,\n",
              "       1, 1, 1, 1, 1, 1, 1, 1, 1, 1, 1, 1, 1, 1, 1, 1, 1, 1, 1, 1, 1, 1,\n",
              "       1, 1, 1, 1, 1, 1, 0, 0, 0, 0, 0, 0, 0, 0, 0, 0, 0, 0, 0, 0, 0, 0,\n",
              "       0, 0, 0, 0, 0, 0, 0, 0, 0, 0, 0, 2, 0, 0, 0, 0, 0, 0, 0, 0, 0, 0,\n",
              "       0, 0, 0, 0, 0, 0, 0, 0, 0, 0, 0, 0, 2, 0, 2, 2, 2, 2, 0, 2, 2, 2,\n",
              "       2, 2, 2, 0, 0, 2, 2, 2, 2, 0, 2, 0, 2, 0, 2, 2, 0, 0, 2, 2, 2, 2,\n",
              "       2, 0, 0, 2, 2, 2, 0, 2, 2, 2, 0, 2, 2, 2, 0, 2, 2, 0])"
            ]
          },
          "metadata": {},
          "execution_count": 47
        }
      ]
    },
    {
      "cell_type": "code",
      "source": [
        "plt.scatter(x[:,0], x[:,1], c=iris_classifier.labels_)\n",
        "plt.show()"
      ],
      "metadata": {
        "colab": {
          "base_uri": "https://localhost:8080/",
          "height": 268
        },
        "id": "-TWHvkI9CaJs",
        "outputId": "cd9d1cd6-50b1-4be9-e498-ae1e3897356d"
      },
      "execution_count": null,
      "outputs": [
        {
          "output_type": "display_data",
          "data": {
            "text/plain": [
              "<Figure size 432x288 with 1 Axes>"
            ],
            "image/png": "[encoded data removed]"
          },
          "metadata": {
            "needs_background": "light"
          }
        }
      ]
    },
    {
      "cell_type": "code",
      "source": [
        "silhouette_score(x, iris_classifier.labels_)"
      ],
      "metadata": {
        "colab": {
          "base_uri": "https://localhost:8080/"
        },
        "id": "BA1zt1ohDHj1",
        "outputId": "ffde3b1f-cc40-4a28-fe66-b3d9f7ee608a"
      },
      "execution_count": null,
      "outputs": [
        {
          "output_type": "execute_result",
          "data": {
            "text/plain": [
              "0.5543236611296419"
            ]
          },
          "metadata": {},
          "execution_count": 49
        }
      ]
    },
    {
      "cell_type": "markdown",
      "source": [
        "Plotting dendrogram"
      ],
      "metadata": {
        "id": "I7OqskBNDmW5"
      }
    },
    {
      "cell_type": "code",
      "source": [
        "plt.figure(figsize=(30, 15))\n",
        "sch.dendrogram(sch.linkage(x, 'ward'))"
      ],
      "metadata": {
        "colab": {
          "base_uri": "https://localhost:8080/",
          "height": 1000
        },
        "id": "enYtL0nyDjNf",
        "outputId": "5e2da5e5-aa8a-4208-bf7f-a0e722b2981e"
      },
      "execution_count": null,
      "outputs": [
        {
          "output_type": "execute_result",
          "data": {
            "text/plain": [
              "{'icoord': [[25.0, 25.0, 35.0, 35.0],\n",
              "  [15.0, 15.0, 30.0, 30.0],\n",
              "  [55.0, 55.0, 65.0, 65.0],\n",
              "  [45.0, 45.0, 60.0, 60.0],\n",
              "  [22.5, 22.5, 52.5, 52.5],\n",
              "  [5.0, 5.0, 37.5, 37.5],\n",
              "  [95.0, 95.0, 105.0, 105.0],\n",
              "  [85.0, 85.0, 100.0, 100.0],\n",
              "  [75.0, 75.0, 92.5, 92.5],\n",
              "  [135.0, 135.0, 145.0, 145.0],\n",
              "  [125.0, 125.0, 140.0, 140.0],\n",
              "  [115.0, 115.0, 132.5, 132.5],\n",
              "  [83.75, 83.75, 123.75, 123.75],\n",
              "  [21.25, 21.25, 103.75, 103.75],\n",
              "  [195.0, 195.0, 205.0, 205.0],\n",
              "  [185.0, 185.0, 200.0, 200.0],\n",
              "  [175.0, 175.0, 192.5, 192.5],\n",
              "  [165.0, 165.0, 183.75, 183.75],\n",
              "  [155.0, 155.0, 174.375, 174.375],\n",
              "  [62.5, 62.5, 164.6875, 164.6875],\n",
              "  [215.0, 215.0, 225.0, 225.0],\n",
              "  [245.0, 245.0, 255.0, 255.0],\n",
              "  [235.0, 235.0, 250.0, 250.0],\n",
              "  [265.0, 265.0, 275.0, 275.0],\n",
              "  [295.0, 295.0, 305.0, 305.0],\n",
              "  [285.0, 285.0, 300.0, 300.0],\n",
              "  [270.0, 270.0, 292.5, 292.5],\n",
              "  [242.5, 242.5, 281.25, 281.25],\n",
              "  [220.0, 220.0, 261.875, 261.875],\n",
              "  [325.0, 325.0, 335.0, 335.0],\n",
              "  [315.0, 315.0, 330.0, 330.0],\n",
              "  [365.0, 365.0, 375.0, 375.0],\n",
              "  [355.0, 355.0, 370.0, 370.0],\n",
              "  [345.0, 345.0, 362.5, 362.5],\n",
              "  [322.5, 322.5, 353.75, 353.75],\n",
              "  [240.9375, 240.9375, 338.125, 338.125],\n",
              "  [385.0, 385.0, 395.0, 395.0],\n",
              "  [405.0, 405.0, 415.0, 415.0],\n",
              "  [390.0, 390.0, 410.0, 410.0],\n",
              "  [425.0, 425.0, 435.0, 435.0],\n",
              "  [445.0, 445.0, 455.0, 455.0],\n",
              "  [485.0, 485.0, 495.0, 495.0],\n",
              "  [475.0, 475.0, 490.0, 490.0],\n",
              "  [465.0, 465.0, 482.5, 482.5],\n",
              "  [450.0, 450.0, 473.75, 473.75],\n",
              "  [430.0, 430.0, 461.875, 461.875],\n",
              "  [400.0, 400.0, 445.9375, 445.9375],\n",
              "  [289.53125, 289.53125, 422.96875, 422.96875],\n",
              "  [113.59375, 113.59375, 356.25, 356.25],\n",
              "  [505.0, 505.0, 515.0, 515.0],\n",
              "  [535.0, 535.0, 545.0, 545.0],\n",
              "  [525.0, 525.0, 540.0, 540.0],\n",
              "  [510.0, 510.0, 532.5, 532.5],\n",
              "  [575.0, 575.0, 585.0, 585.0],\n",
              "  [565.0, 565.0, 580.0, 580.0],\n",
              "  [555.0, 555.0, 572.5, 572.5],\n",
              "  [521.25, 521.25, 563.75, 563.75],\n",
              "  [615.0, 615.0, 625.0, 625.0],\n",
              "  [605.0, 605.0, 620.0, 620.0],\n",
              "  [595.0, 595.0, 612.5, 612.5],\n",
              "  [655.0, 655.0, 665.0, 665.0],\n",
              "  [645.0, 645.0, 660.0, 660.0],\n",
              "  [635.0, 635.0, 652.5, 652.5],\n",
              "  [603.75, 603.75, 643.75, 643.75],\n",
              "  [685.0, 685.0, 695.0, 695.0],\n",
              "  [675.0, 675.0, 690.0, 690.0],\n",
              "  [705.0, 705.0, 715.0, 715.0],\n",
              "  [725.0, 725.0, 735.0, 735.0],\n",
              "  [710.0, 710.0, 730.0, 730.0],\n",
              "  [682.5, 682.5, 720.0, 720.0],\n",
              "  [623.75, 623.75, 701.25, 701.25],\n",
              "  [542.5, 542.5, 662.5, 662.5],\n",
              "  [745.0, 745.0, 755.0, 755.0],\n",
              "  [775.0, 775.0, 785.0, 785.0],\n",
              "  [765.0, 765.0, 780.0, 780.0],\n",
              "  [750.0, 750.0, 772.5, 772.5],\n",
              "  [805.0, 805.0, 815.0, 815.0],\n",
              "  [795.0, 795.0, 810.0, 810.0],\n",
              "  [825.0, 825.0, 835.0, 835.0],\n",
              "  [845.0, 845.0, 855.0, 855.0],\n",
              "  [830.0, 830.0, 850.0, 850.0],\n",
              "  [802.5, 802.5, 840.0, 840.0],\n",
              "  [761.25, 761.25, 821.25, 821.25],\n",
              "  [602.5, 602.5, 791.25, 791.25],\n",
              "  [885.0, 885.0, 895.0, 895.0],\n",
              "  [875.0, 875.0, 890.0, 890.0],\n",
              "  [865.0, 865.0, 882.5, 882.5],\n",
              "  [925.0, 925.0, 935.0, 935.0],\n",
              "  [915.0, 915.0, 930.0, 930.0],\n",
              "  [905.0, 905.0, 922.5, 922.5],\n",
              "  [945.0, 945.0, 955.0, 955.0],\n",
              "  [975.0, 975.0, 985.0, 985.0],\n",
              "  [1005.0, 1005.0, 1015.0, 1015.0],\n",
              "  [995.0, 995.0, 1010.0, 1010.0],\n",
              "  [980.0, 980.0, 1002.5, 1002.5],\n",
              "  [965.0, 965.0, 991.25, 991.25],\n",
              "  [950.0, 950.0, 978.125, 978.125],\n",
              "  [913.75, 913.75, 964.0625, 964.0625],\n",
              "  [1035.0, 1035.0, 1045.0, 1045.0],\n",
              "  [1065.0, 1065.0, 1075.0, 1075.0],\n",
              "  [1055.0, 1055.0, 1070.0, 1070.0],\n",
              "  [1040.0, 1040.0, 1062.5, 1062.5],\n",
              "  [1085.0, 1085.0, 1095.0, 1095.0],\n",
              "  [1105.0, 1105.0, 1115.0, 1115.0],\n",
              "  [1090.0, 1090.0, 1110.0, 1110.0],\n",
              "  [1051.25, 1051.25, 1100.0, 1100.0],\n",
              "  [1025.0, 1025.0, 1075.625, 1075.625],\n",
              "  [938.90625, 938.90625, 1050.3125, 1050.3125],\n",
              "  [873.75, 873.75, 994.609375, 994.609375],\n",
              "  [1155.0, 1155.0, 1165.0, 1165.0],\n",
              "  [1145.0, 1145.0, 1160.0, 1160.0],\n",
              "  [1135.0, 1135.0, 1152.5, 1152.5],\n",
              "  [1125.0, 1125.0, 1143.75, 1143.75],\n",
              "  [1185.0, 1185.0, 1195.0, 1195.0],\n",
              "  [1175.0, 1175.0, 1190.0, 1190.0],\n",
              "  [1225.0, 1225.0, 1235.0, 1235.0],\n",
              "  [1215.0, 1215.0, 1230.0, 1230.0],\n",
              "  [1255.0, 1255.0, 1265.0, 1265.0],\n",
              "  [1245.0, 1245.0, 1260.0, 1260.0],\n",
              "  [1222.5, 1222.5, 1252.5, 1252.5],\n",
              "  [1205.0, 1205.0, 1237.5, 1237.5],\n",
              "  [1182.5, 1182.5, 1221.25, 1221.25],\n",
              "  [1134.375, 1134.375, 1201.875, 1201.875],\n",
              "  [1285.0, 1285.0, 1295.0, 1295.0],\n",
              "  [1275.0, 1275.0, 1290.0, 1290.0],\n",
              "  [1305.0, 1305.0, 1315.0, 1315.0],\n",
              "  [1335.0, 1335.0, 1345.0, 1345.0],\n",
              "  [1325.0, 1325.0, 1340.0, 1340.0],\n",
              "  [1310.0, 1310.0, 1332.5, 1332.5],\n",
              "  [1282.5, 1282.5, 1321.25, 1321.25],\n",
              "  [1375.0, 1375.0, 1385.0, 1385.0],\n",
              "  [1365.0, 1365.0, 1380.0, 1380.0],\n",
              "  [1355.0, 1355.0, 1372.5, 1372.5],\n",
              "  [1395.0, 1395.0, 1405.0, 1405.0],\n",
              "  [1415.0, 1415.0, 1425.0, 1425.0],\n",
              "  [1400.0, 1400.0, 1420.0, 1420.0],\n",
              "  [1363.75, 1363.75, 1410.0, 1410.0],\n",
              "  [1455.0, 1455.0, 1465.0, 1465.0],\n",
              "  [1445.0, 1445.0, 1460.0, 1460.0],\n",
              "  [1435.0, 1435.0, 1452.5, 1452.5],\n",
              "  [1485.0, 1485.0, 1495.0, 1495.0],\n",
              "  [1475.0, 1475.0, 1490.0, 1490.0],\n",
              "  [1443.75, 1443.75, 1482.5, 1482.5],\n",
              "  [1386.875, 1386.875, 1463.125, 1463.125],\n",
              "  [1301.875, 1301.875, 1425.0, 1425.0],\n",
              "  [1168.125, 1168.125, 1363.4375, 1363.4375],\n",
              "  [934.1796875, 934.1796875, 1265.78125, 1265.78125],\n",
              "  [696.875, 696.875, 1099.98046875, 1099.98046875],\n",
              "  [234.921875, 234.921875, 898.427734375, 898.427734375]],\n",
              " 'dcoord': [[0.0, 0.14142135623730986, 0.14142135623730986, 0.0],\n",
              "  [0.0, 0.18257418583505544, 0.18257418583505544, 0.14142135623730986],\n",
              "  [0.0, 0.1, 0.1, 0.0],\n",
              "  [0.0, 0.20816659994661316, 0.20816659994661316, 0.1],\n",
              "  [0.18257418583505544,\n",
              "   0.3162277660168383,\n",
              "   0.3162277660168383,\n",
              "   0.20816659994661316],\n",
              "  [0.0, 0.439696865275764, 0.439696865275764, 0.3162277660168383],\n",
              "  [0.0, 0.14142135623730964, 0.14142135623730964, 0.0],\n",
              "  [0.0, 0.21602468994692892, 0.21602468994692892, 0.14142135623730964],\n",
              "  [0.0, 0.31358146203711273, 0.31358146203711273, 0.21602468994692892],\n",
              "  [0.0, 0.1414213562373093, 0.1414213562373093, 0.0],\n",
              "  [0.0, 0.29439202887759464, 0.29439202887759464, 0.1414213562373093],\n",
              "  [0.0, 0.422295315310664, 0.422295315310664, 0.29439202887759464],\n",
              "  [0.31358146203711273,\n",
              "   0.636396103067893,\n",
              "   0.636396103067893,\n",
              "   0.422295315310664],\n",
              "  [0.439696865275764,\n",
              "   0.8187388676087964,\n",
              "   0.8187388676087964,\n",
              "   0.636396103067893],\n",
              "  [0.0, 0.14142135623730948, 0.14142135623730948, 0.0],\n",
              "  [0.0, 0.29439202887759514, 0.29439202887759514, 0.14142135623730948],\n",
              "  [0.0, 0.3366501646120694, 0.3366501646120694, 0.29439202887759514],\n",
              "  [0.0, 0.8555699854482973, 0.8555699854482973, 0.3366501646120694],\n",
              "  [0.0, 1.105139508538779, 1.105139508538779, 0.8555699854482973],\n",
              "  [0.8187388676087964,\n",
              "   1.3712698320830048,\n",
              "   1.3712698320830048,\n",
              "   1.105139508538779],\n",
              "  [0.0, 0.14142135623730925, 0.14142135623730925, 0.0],\n",
              "  [0.0, 0.09999999999999964, 0.09999999999999964, 0.0],\n",
              "  [0.0, 0.17320508075688779, 0.17320508075688779, 0.09999999999999964],\n",
              "  [0.0, 0.14142135623730964, 0.14142135623730964, 0.0],\n",
              "  [0.0, 0.09999999999999998, 0.09999999999999998, 0.0],\n",
              "  [0.0, 0.17320508075688734, 0.17320508075688734, 0.09999999999999998],\n",
              "  [0.14142135623730964,\n",
              "   0.27568097504180494,\n",
              "   0.27568097504180494,\n",
              "   0.17320508075688734],\n",
              "  [0.17320508075688779,\n",
              "   0.31464265445104567,\n",
              "   0.31464265445104567,\n",
              "   0.27568097504180494],\n",
              "  [0.14142135623730925,\n",
              "   0.40620192023179785,\n",
              "   0.40620192023179785,\n",
              "   0.31464265445104567],\n",
              "  [0.0, 0.1999999999999998, 0.1999999999999998, 0.0],\n",
              "  [0.0, 0.25819888974716115, 0.25819888974716115, 0.1999999999999998],\n",
              "  [0.0, 0.14142135623730928, 0.14142135623730928, 0.0],\n",
              "  [0.0, 0.21602468994692864, 0.21602468994692864, 0.14142135623730928],\n",
              "  [0.0, 0.46726152562920603, 0.46726152562920603, 0.21602468994692864],\n",
              "  [0.25819888974716115,\n",
              "   0.7762854163379906,\n",
              "   0.7762854163379906,\n",
              "   0.46726152562920603],\n",
              "  [0.40620192023179785,\n",
              "   0.9099819926189507,\n",
              "   0.9099819926189507,\n",
              "   0.7762854163379906],\n",
              "  [0.0, 0.3464101615137755, 0.3464101615137755, 0.0],\n",
              "  [0.0, 0.5477225575051664, 0.5477225575051664, 0.0],\n",
              "  [0.3464101615137755,\n",
              "   0.6244997998398397,\n",
              "   0.6244997998398397,\n",
              "   0.5477225575051664],\n",
              "  [0.0, 0.33166247903553986, 0.33166247903553986, 0.0],\n",
              "  [0.0, 0.282842712474619, 0.282842712474619, 0.0],\n",
              "  [0.0, 0.10000000000000053, 0.10000000000000053, 0.0],\n",
              "  [0.0, 0.3696845502136473, 0.3696845502136473, 0.10000000000000053],\n",
              "  [0.0, 0.4396968652757638, 0.4396968652757638, 0.3696845502136473],\n",
              "  [0.282842712474619,\n",
              "   0.5944184833375671,\n",
              "   0.5944184833375671,\n",
              "   0.4396968652757638],\n",
              "  [0.33166247903553986,\n",
              "   0.6626965117357013,\n",
              "   0.6626965117357013,\n",
              "   0.5944184833375671],\n",
              "  [0.6244997998398397,\n",
              "   1.2539936203984452,\n",
              "   1.2539936203984452,\n",
              "   0.6626965117357013],\n",
              "  [0.9099819926189507,\n",
              "   1.9187528699821954,\n",
              "   1.9187528699821954,\n",
              "   1.2539936203984452],\n",
              "  [1.3712698320830048,\n",
              "   3.828052620290243,\n",
              "   3.828052620290243,\n",
              "   1.9187528699821954],\n",
              "  [0.0, 0.24494897427831785, 0.24494897427831785, 0.0],\n",
              "  [0.0, 0.22360679774997935, 0.22360679774997935, 0.0],\n",
              "  [0.0, 0.33166247903553964, 0.33166247903553964, 0.22360679774997935],\n",
              "  [0.24494897427831785,\n",
              "   0.41472882706655473,\n",
              "   0.41472882706655473,\n",
              "   0.33166247903553964],\n",
              "  [0.0, 0.2449489742783171, 0.2449489742783171, 0.0],\n",
              "  [0.0, 0.3741657386773943, 0.3741657386773943, 0.2449489742783171],\n",
              "  [0.0, 0.724568837309472, 0.724568837309472, 0.3741657386773943],\n",
              "  [0.41472882706655473,\n",
              "   1.0470593743113776,\n",
              "   1.0470593743113776,\n",
              "   0.724568837309472],\n",
              "  [0.0, 0.1414213562373093, 0.1414213562373093, 0.0],\n",
              "  [0.0, 0.27080128015453214, 0.27080128015453214, 0.1414213562373093],\n",
              "  [0.0, 0.4813176359397882, 0.4813176359397882, 0.27080128015453214],\n",
              "  [0.0, 0.10000000000000009, 0.10000000000000009, 0.0],\n",
              "  [0.0, 0.3511884584284248, 0.3511884584284248, 0.10000000000000009],\n",
              "  [0.0, 0.7325753658611969, 0.7325753658611969, 0.3511884584284248],\n",
              "  [0.4813176359397882,\n",
              "   0.7632168761236877,\n",
              "   0.7632168761236877,\n",
              "   0.7325753658611969],\n",
              "  [0.0, 0.22360679774997935, 0.22360679774997935, 0.0],\n",
              "  [0.0, 0.4654746681256315, 0.4654746681256315, 0.22360679774997935],\n",
              "  [0.0, 0.17320508075688787, 0.17320508075688787, 0.0],\n",
              "  [0.0, 0.24494897427831822, 0.24494897427831822, 0.0],\n",
              "  [0.17320508075688787,\n",
              "   0.5147815070493501,\n",
              "   0.5147815070493501,\n",
              "   0.24494897427831822],\n",
              "  [0.4654746681256315,\n",
              "   0.821873585459583,\n",
              "   0.821873585459583,\n",
              "   0.5147815070493501],\n",
              "  [0.7632168761236877,\n",
              "   1.4113907359494071,\n",
              "   1.4113907359494071,\n",
              "   0.821873585459583],\n",
              "  [1.0470593743113776,\n",
              "   1.7604450194955439,\n",
              "   1.7604450194955439,\n",
              "   1.4113907359494071],\n",
              "  [0.0, 0.26457513110645936, 0.26457513110645936, 0.0],\n",
              "  [0.0, 0.3464101615137756, 0.3464101615137756, 0.0],\n",
              "  [0.0, 0.4898979485566358, 0.4898979485566358, 0.3464101615137756],\n",
              "  [0.26457513110645936,\n",
              "   0.6403124237432848,\n",
              "   0.6403124237432848,\n",
              "   0.4898979485566358],\n",
              "  [0.0, 0.26457513110645964, 0.26457513110645964, 0.0],\n",
              "  [0.0, 0.5385164807134505, 0.5385164807134505, 0.26457513110645964],\n",
              "  [0.0, 0.4123105625617661, 0.4123105625617661, 0.0],\n",
              "  [0.0, 0.806225774829855, 0.806225774829855, 0.0],\n",
              "  [0.4123105625617661,\n",
              "   1.1532562594670799,\n",
              "   1.1532562594670799,\n",
              "   0.806225774829855],\n",
              "  [0.5385164807134505,\n",
              "   1.5977662979475886,\n",
              "   1.5977662979475886,\n",
              "   1.1532562594670799],\n",
              "  [0.6403124237432848,\n",
              "   1.845844754344974,\n",
              "   1.845844754344974,\n",
              "   1.5977662979475886],\n",
              "  [1.7604450194955439,\n",
              "   4.847708507921838,\n",
              "   4.847708507921838,\n",
              "   1.845844754344974],\n",
              "  [0.0, 0.1414213562373093, 0.1414213562373093, 0.0],\n",
              "  [0.0, 0.4396968652757636, 0.4396968652757636, 0.1414213562373093],\n",
              "  [0.0, 0.6137317546507324, 0.6137317546507324, 0.4396968652757636],\n",
              "  [0.0, 0.14142135623730964, 0.14142135623730964, 0.0],\n",
              "  [0.0, 0.29439202887759464, 0.29439202887759464, 0.14142135623730964],\n",
              "  [0.0, 0.6429100507328638, 0.6429100507328638, 0.29439202887759464],\n",
              "  [0.0, 0.44721359549995804, 0.44721359549995804, 0.0],\n",
              "  [0.0, 0.20000000000000018, 0.20000000000000018, 0.0],\n",
              "  [0.0, 0.1414213562373093, 0.1414213562373093, 0.0],\n",
              "  [0.0, 0.2449489742783176, 0.2449489742783176, 0.1414213562373093],\n",
              "  [0.20000000000000018,\n",
              "   0.4816637831516918,\n",
              "   0.4816637831516918,\n",
              "   0.2449489742783176],\n",
              "  [0.0, 0.6308724118235001, 0.6308724118235001, 0.4816637831516918],\n",
              "  [0.44721359549995804,\n",
              "   0.8261355820929153,\n",
              "   0.8261355820929153,\n",
              "   0.6308724118235001],\n",
              "  [0.6429100507328638,\n",
              "   0.9287087810503354,\n",
              "   0.9287087810503354,\n",
              "   0.8261355820929153],\n",
              "  [0.0, 0.17320508075688815, 0.17320508075688815, 0.0],\n",
              "  [0.0, 0.14142135623730964, 0.14142135623730964, 0.0],\n",
              "  [0.0, 0.18257418583505616, 0.18257418583505616, 0.14142135623730964],\n",
              "  [0.17320508075688815,\n",
              "   0.3415650255319866,\n",
              "   0.3415650255319866,\n",
              "   0.18257418583505616],\n",
              "  [0.0, 0.1999999999999993, 0.1999999999999993, 0.0],\n",
              "  [0.0, 0.3162277660168378, 0.3162277660168378, 0.0],\n",
              "  [0.1999999999999993,\n",
              "   0.5744562646538028,\n",
              "   0.5744562646538028,\n",
              "   0.3162277660168378],\n",
              "  [0.3415650255319866,\n",
              "   0.7340905181848414,\n",
              "   0.7340905181848414,\n",
              "   0.5744562646538028],\n",
              "  [0.0, 1.217009084235245, 1.217009084235245, 0.7340905181848414],\n",
              "  [0.9287087810503354,\n",
              "   1.9160802792063898,\n",
              "   1.9160802792063898,\n",
              "   1.217009084235245],\n",
              "  [0.6137317546507324,\n",
              "   2.8139388316471536,\n",
              "   2.8139388316471536,\n",
              "   1.9160802792063898],\n",
              "  [0.0, 0.0, 0.0, 0.0],\n",
              "  [0.0, 0.3055050463303892, 0.3055050463303892, 0.0],\n",
              "  [0.0, 0.3628590176179537, 0.3628590176179537, 0.3055050463303892],\n",
              "  [0.0, 0.6058052492344382, 0.6058052492344382, 0.3628590176179537],\n",
              "  [0.0, 0.26457513110645864, 0.26457513110645864, 0.0],\n",
              "  [0.0, 0.7094598884597586, 0.7094598884597586, 0.26457513110645864],\n",
              "  [0.0, 0.17320508075688762, 0.17320508075688762, 0.0],\n",
              "  [0.0, 0.36055512754639885, 0.36055512754639885, 0.17320508075688762],\n",
              "  [0.0, 0.33166247903553975, 0.33166247903553975, 0.0],\n",
              "  [0.0, 0.41231056256176557, 0.41231056256176557, 0.33166247903553975],\n",
              "  [0.36055512754639885,\n",
              "   0.5802298395176401,\n",
              "   0.5802298395176401,\n",
              "   0.41231056256176557],\n",
              "  [0.0, 0.9291573243177567, 0.9291573243177567, 0.5802298395176401],\n",
              "  [0.7094598884597586,\n",
              "   1.3048627003124373,\n",
              "   1.3048627003124373,\n",
              "   0.9291573243177567],\n",
              "  [0.6058052492344382,\n",
              "   1.759166469287846,\n",
              "   1.759166469287846,\n",
              "   1.3048627003124373],\n",
              "  [0.0, 0.26457513110645914, 0.26457513110645914, 0.0],\n",
              "  [0.0, 0.32145502536643195, 0.32145502536643195, 0.26457513110645914],\n",
              "  [0.0, 0.14142135623730995, 0.14142135623730995, 0.0],\n",
              "  [0.0, 0.24494897427831766, 0.24494897427831766, 0.0],\n",
              "  [0.0, 0.3741657386773943, 0.3741657386773943, 0.24494897427831766],\n",
              "  [0.14142135623730995,\n",
              "   0.5329165037789686,\n",
              "   0.5329165037789686,\n",
              "   0.3741657386773943],\n",
              "  [0.32145502536643195,\n",
              "   0.7349603163890333,\n",
              "   0.7349603163890333,\n",
              "   0.5329165037789686],\n",
              "  [0.0, 0.14142135623730995, 0.14142135623730995, 0.0],\n",
              "  [0.0, 0.24494897427831758, 0.24494897427831758, 0.14142135623730995],\n",
              "  [0.0, 0.3535533905932739, 0.3535533905932739, 0.24494897427831758],\n",
              "  [0.0, 0.20000000000000018, 0.20000000000000018, 0.0],\n",
              "  [0.0, 0.3999999999999998, 0.3999999999999998, 0.0],\n",
              "  [0.20000000000000018,\n",
              "   0.5291502622129183,\n",
              "   0.5291502622129183,\n",
              "   0.3999999999999998],\n",
              "  [0.3535533905932739,\n",
              "   0.8645808232895295,\n",
              "   0.8645808232895295,\n",
              "   0.5291502622129183],\n",
              "  [0.0, 0.14142135623730964, 0.14142135623730964, 0.0],\n",
              "  [0.0, 0.29439202887759475, 0.29439202887759475, 0.14142135623730964],\n",
              "  [0.0, 0.35823642100341074, 0.35823642100341074, 0.29439202887759475],\n",
              "  [0.0, 0.2645751311064593, 0.2645751311064593, 0.0],\n",
              "  [0.0, 0.4582575694955841, 0.4582575694955841, 0.2645751311064593],\n",
              "  [0.35823642100341074,\n",
              "   1.0053428697286737,\n",
              "   1.0053428697286737,\n",
              "   0.4582575694955841],\n",
              "  [0.8645808232895295,\n",
              "   1.495477308738712,\n",
              "   1.495477308738712,\n",
              "   1.0053428697286737],\n",
              "  [0.7349603163890333,\n",
              "   2.0536305779581285,\n",
              "   2.0536305779581285,\n",
              "   1.495477308738712],\n",
              "  [1.759166469287846,\n",
              "   2.8694176394568705,\n",
              "   2.8694176394568705,\n",
              "   2.0536305779581285],\n",
              "  [2.8139388316471536,\n",
              "   6.399406819518539,\n",
              "   6.399406819518539,\n",
              "   2.8694176394568705],\n",
              "  [4.847708507921838,\n",
              "   12.300396052792589,\n",
              "   12.300396052792589,\n",
              "   6.399406819518539],\n",
              "  [3.828052620290243,\n",
              "   32.44760699959244,\n",
              "   32.44760699959244,\n",
              "   12.300396052792589]],\n",
              " 'ivl': ['35',\n",
              "  '12',\n",
              "  '1',\n",
              "  '45',\n",
              "  '25',\n",
              "  '9',\n",
              "  '34',\n",
              "  '6',\n",
              "  '2',\n",
              "  '3',\n",
              "  '47',\n",
              "  '24',\n",
              "  '11',\n",
              "  '29',\n",
              "  '30',\n",
              "  '41',\n",
              "  '22',\n",
              "  '13',\n",
              "  '42',\n",
              "  '8',\n",
              "  '38',\n",
              "  '4',\n",
              "  '37',\n",
              "  '49',\n",
              "  '7',\n",
              "  '39',\n",
              "  '27',\n",
              "  '28',\n",
              "  '40',\n",
              "  '0',\n",
              "  '17',\n",
              "  '43',\n",
              "  '23',\n",
              "  '26',\n",
              "  '44',\n",
              "  '46',\n",
              "  '19',\n",
              "  '21',\n",
              "  '32',\n",
              "  '33',\n",
              "  '14',\n",
              "  '15',\n",
              "  '5',\n",
              "  '18',\n",
              "  '20',\n",
              "  '31',\n",
              "  '16',\n",
              "  '36',\n",
              "  '10',\n",
              "  '48',\n",
              "  '140',\n",
              "  '144',\n",
              "  '124',\n",
              "  '120',\n",
              "  '143',\n",
              "  '100',\n",
              "  '115',\n",
              "  '136',\n",
              "  '148',\n",
              "  '111',\n",
              "  '103',\n",
              "  '116',\n",
              "  '137',\n",
              "  '108',\n",
              "  '104',\n",
              "  '128',\n",
              "  '132',\n",
              "  '77',\n",
              "  '110',\n",
              "  '147',\n",
              "  '112',\n",
              "  '139',\n",
              "  '141',\n",
              "  '145',\n",
              "  '107',\n",
              "  '130',\n",
              "  '102',\n",
              "  '125',\n",
              "  '129',\n",
              "  '118',\n",
              "  '105',\n",
              "  '122',\n",
              "  '117',\n",
              "  '131',\n",
              "  '109',\n",
              "  '135',\n",
              "  '60',\n",
              "  '98',\n",
              "  '57',\n",
              "  '93',\n",
              "  '62',\n",
              "  '67',\n",
              "  '82',\n",
              "  '92',\n",
              "  '64',\n",
              "  '79',\n",
              "  '59',\n",
              "  '53',\n",
              "  '89',\n",
              "  '69',\n",
              "  '80',\n",
              "  '81',\n",
              "  '106',\n",
              "  '94',\n",
              "  '99',\n",
              "  '88',\n",
              "  '95',\n",
              "  '96',\n",
              "  '66',\n",
              "  '84',\n",
              "  '55',\n",
              "  '90',\n",
              "  '114',\n",
              "  '121',\n",
              "  '113',\n",
              "  '101',\n",
              "  '142',\n",
              "  '119',\n",
              "  '68',\n",
              "  '87',\n",
              "  '134',\n",
              "  '146',\n",
              "  '123',\n",
              "  '126',\n",
              "  '72',\n",
              "  '83',\n",
              "  '133',\n",
              "  '86',\n",
              "  '50',\n",
              "  '52',\n",
              "  '65',\n",
              "  '75',\n",
              "  '76',\n",
              "  '54',\n",
              "  '58',\n",
              "  '73',\n",
              "  '78',\n",
              "  '63',\n",
              "  '91',\n",
              "  '74',\n",
              "  '97',\n",
              "  '61',\n",
              "  '71',\n",
              "  '149',\n",
              "  '70',\n",
              "  '127',\n",
              "  '138',\n",
              "  '85',\n",
              "  '51',\n",
              "  '56'],\n",
              " 'leaves': [35,\n",
              "  12,\n",
              "  1,\n",
              "  45,\n",
              "  25,\n",
              "  9,\n",
              "  34,\n",
              "  6,\n",
              "  2,\n",
              "  3,\n",
              "  47,\n",
              "  24,\n",
              "  11,\n",
              "  29,\n",
              "  30,\n",
              "  41,\n",
              "  22,\n",
              "  13,\n",
              "  42,\n",
              "  8,\n",
              "  38,\n",
              "  4,\n",
              "  37,\n",
              "  49,\n",
              "  7,\n",
              "  39,\n",
              "  27,\n",
              "  28,\n",
              "  40,\n",
              "  0,\n",
              "  17,\n",
              "  43,\n",
              "  23,\n",
              "  26,\n",
              "  44,\n",
              "  46,\n",
              "  19,\n",
              "  21,\n",
              "  32,\n",
              "  33,\n",
              "  14,\n",
              "  15,\n",
              "  5,\n",
              "  18,\n",
              "  20,\n",
              "  31,\n",
              "  16,\n",
              "  36,\n",
              "  10,\n",
              "  48,\n",
              "  140,\n",
              "  144,\n",
              "  124,\n",
              "  120,\n",
              "  143,\n",
              "  100,\n",
              "  115,\n",
              "  136,\n",
              "  148,\n",
              "  111,\n",
              "  103,\n",
              "  116,\n",
              "  137,\n",
              "  108,\n",
              "  104,\n",
              "  128,\n",
              "  132,\n",
              "  77,\n",
              "  110,\n",
              "  147,\n",
              "  112,\n",
              "  139,\n",
              "  141,\n",
              "  145,\n",
              "  107,\n",
              "  130,\n",
              "  102,\n",
              "  125,\n",
              "  129,\n",
              "  118,\n",
              "  105,\n",
              "  122,\n",
              "  117,\n",
              "  131,\n",
              "  109,\n",
              "  135,\n",
              "  60,\n",
              "  98,\n",
              "  57,\n",
              "  93,\n",
              "  62,\n",
              "  67,\n",
              "  82,\n",
              "  92,\n",
              "  64,\n",
              "  79,\n",
              "  59,\n",
              "  53,\n",
              "  89,\n",
              "  69,\n",
              "  80,\n",
              "  81,\n",
              "  106,\n",
              "  94,\n",
              "  99,\n",
              "  88,\n",
              "  95,\n",
              "  96,\n",
              "  66,\n",
              "  84,\n",
              "  55,\n",
              "  90,\n",
              "  114,\n",
              "  121,\n",
              "  113,\n",
              "  101,\n",
              "  142,\n",
              "  119,\n",
              "  68,\n",
              "  87,\n",
              "  134,\n",
              "  146,\n",
              "  123,\n",
              "  126,\n",
              "  72,\n",
              "  83,\n",
              "  133,\n",
              "  86,\n",
              "  50,\n",
              "  52,\n",
              "  65,\n",
              "  75,\n",
              "  76,\n",
              "  54,\n",
              "  58,\n",
              "  73,\n",
              "  78,\n",
              "  63,\n",
              "  91,\n",
              "  74,\n",
              "  97,\n",
              "  61,\n",
              "  71,\n",
              "  149,\n",
              "  70,\n",
              "  127,\n",
              "  138,\n",
              "  85,\n",
              "  51,\n",
              "  56],\n",
              " 'color_list': ['C1',\n",
              "  'C1',\n",
              "  'C1',\n",
              "  'C1',\n",
              "  'C1',\n",
              "  'C1',\n",
              "  'C1',\n",
              "  'C1',\n",
              "  'C1',\n",
              "  'C1',\n",
              "  'C1',\n",
              "  'C1',\n",
              "  'C1',\n",
              "  'C1',\n",
              "  'C1',\n",
              "  'C1',\n",
              "  'C1',\n",
              "  'C1',\n",
              "  'C1',\n",
              "  'C1',\n",
              "  'C1',\n",
              "  'C1',\n",
              "  'C1',\n",
              "  'C1',\n",
              "  'C1',\n",
              "  'C1',\n",
              "  'C1',\n",
              "  'C1',\n",
              "  'C1',\n",
              "  'C1',\n",
              "  'C1',\n",
              "  'C1',\n",
              "  'C1',\n",
              "  'C1',\n",
              "  'C1',\n",
              "  'C1',\n",
              "  'C1',\n",
              "  'C1',\n",
              "  'C1',\n",
              "  'C1',\n",
              "  'C1',\n",
              "  'C1',\n",
              "  'C1',\n",
              "  'C1',\n",
              "  'C1',\n",
              "  'C1',\n",
              "  'C1',\n",
              "  'C1',\n",
              "  'C1',\n",
              "  'C2',\n",
              "  'C2',\n",
              "  'C2',\n",
              "  'C2',\n",
              "  'C2',\n",
              "  'C2',\n",
              "  'C2',\n",
              "  'C2',\n",
              "  'C2',\n",
              "  'C2',\n",
              "  'C2',\n",
              "  'C2',\n",
              "  'C2',\n",
              "  'C2',\n",
              "  'C2',\n",
              "  'C2',\n",
              "  'C2',\n",
              "  'C2',\n",
              "  'C2',\n",
              "  'C2',\n",
              "  'C2',\n",
              "  'C2',\n",
              "  'C2',\n",
              "  'C2',\n",
              "  'C2',\n",
              "  'C2',\n",
              "  'C2',\n",
              "  'C2',\n",
              "  'C2',\n",
              "  'C2',\n",
              "  'C2',\n",
              "  'C2',\n",
              "  'C2',\n",
              "  'C2',\n",
              "  'C2',\n",
              "  'C2',\n",
              "  'C2',\n",
              "  'C2',\n",
              "  'C2',\n",
              "  'C2',\n",
              "  'C2',\n",
              "  'C2',\n",
              "  'C2',\n",
              "  'C2',\n",
              "  'C2',\n",
              "  'C2',\n",
              "  'C2',\n",
              "  'C2',\n",
              "  'C2',\n",
              "  'C2',\n",
              "  'C2',\n",
              "  'C2',\n",
              "  'C2',\n",
              "  'C2',\n",
              "  'C2',\n",
              "  'C2',\n",
              "  'C2',\n",
              "  'C2',\n",
              "  'C2',\n",
              "  'C2',\n",
              "  'C2',\n",
              "  'C2',\n",
              "  'C2',\n",
              "  'C2',\n",
              "  'C2',\n",
              "  'C2',\n",
              "  'C2',\n",
              "  'C2',\n",
              "  'C2',\n",
              "  'C2',\n",
              "  'C2',\n",
              "  'C2',\n",
              "  'C2',\n",
              "  'C2',\n",
              "  'C2',\n",
              "  'C2',\n",
              "  'C2',\n",
              "  'C2',\n",
              "  'C2',\n",
              "  'C2',\n",
              "  'C2',\n",
              "  'C2',\n",
              "  'C2',\n",
              "  'C2',\n",
              "  'C2',\n",
              "  'C2',\n",
              "  'C2',\n",
              "  'C2',\n",
              "  'C2',\n",
              "  'C2',\n",
              "  'C2',\n",
              "  'C2',\n",
              "  'C2',\n",
              "  'C2',\n",
              "  'C2',\n",
              "  'C2',\n",
              "  'C2',\n",
              "  'C2',\n",
              "  'C2',\n",
              "  'C0'],\n",
              " 'leaves_color_list': ['C1',\n",
              "  'C1',\n",
              "  'C1',\n",
              "  'C1',\n",
              "  'C1',\n",
              "  'C1',\n",
              "  'C1',\n",
              "  'C1',\n",
              "  'C1',\n",
              "  'C1',\n",
              "  'C1',\n",
              "  'C1',\n",
              "  'C1',\n",
              "  'C1',\n",
              "  'C1',\n",
              "  'C1',\n",
              "  'C1',\n",
              "  'C1',\n",
              "  'C1',\n",
              "  'C1',\n",
              "  'C1',\n",
              "  'C1',\n",
              "  'C1',\n",
              "  'C1',\n",
              "  'C1',\n",
              "  'C1',\n",
              "  'C1',\n",
              "  'C1',\n",
              "  'C1',\n",
              "  'C1',\n",
              "  'C1',\n",
              "  'C1',\n",
              "  'C1',\n",
              "  'C1',\n",
              "  'C1',\n",
              "  'C1',\n",
              "  'C1',\n",
              "  'C1',\n",
              "  'C1',\n",
              "  'C1',\n",
              "  'C1',\n",
              "  'C1',\n",
              "  'C1',\n",
              "  'C1',\n",
              "  'C1',\n",
              "  'C1',\n",
              "  'C1',\n",
              "  'C1',\n",
              "  'C1',\n",
              "  'C1',\n",
              "  'C2',\n",
              "  'C2',\n",
              "  'C2',\n",
              "  'C2',\n",
              "  'C2',\n",
              "  'C2',\n",
              "  'C2',\n",
              "  'C2',\n",
              "  'C2',\n",
              "  'C2',\n",
              "  'C2',\n",
              "  'C2',\n",
              "  'C2',\n",
              "  'C2',\n",
              "  'C2',\n",
              "  'C2',\n",
              "  'C2',\n",
              "  'C2',\n",
              "  'C2',\n",
              "  'C2',\n",
              "  'C2',\n",
              "  'C2',\n",
              "  'C2',\n",
              "  'C2',\n",
              "  'C2',\n",
              "  'C2',\n",
              "  'C2',\n",
              "  'C2',\n",
              "  'C2',\n",
              "  'C2',\n",
              "  'C2',\n",
              "  'C2',\n",
              "  'C2',\n",
              "  'C2',\n",
              "  'C2',\n",
              "  'C2',\n",
              "  'C2',\n",
              "  'C2',\n",
              "  'C2',\n",
              "  'C2',\n",
              "  'C2',\n",
              "  'C2',\n",
              "  'C2',\n",
              "  'C2',\n",
              "  'C2',\n",
              "  'C2',\n",
              "  'C2',\n",
              "  'C2',\n",
              "  'C2',\n",
              "  'C2',\n",
              "  'C2',\n",
              "  'C2',\n",
              "  'C2',\n",
              "  'C2',\n",
              "  'C2',\n",
              "  'C2',\n",
              "  'C2',\n",
              "  'C2',\n",
              "  'C2',\n",
              "  'C2',\n",
              "  'C2',\n",
              "  'C2',\n",
              "  'C2',\n",
              "  'C2',\n",
              "  'C2',\n",
              "  'C2',\n",
              "  'C2',\n",
              "  'C2',\n",
              "  'C2',\n",
              "  'C2',\n",
              "  'C2',\n",
              "  'C2',\n",
              "  'C2',\n",
              "  'C2',\n",
              "  'C2',\n",
              "  'C2',\n",
              "  'C2',\n",
              "  'C2',\n",
              "  'C2',\n",
              "  'C2',\n",
              "  'C2',\n",
              "  'C2',\n",
              "  'C2',\n",
              "  'C2',\n",
              "  'C2',\n",
              "  'C2',\n",
              "  'C2',\n",
              "  'C2',\n",
              "  'C2',\n",
              "  'C2',\n",
              "  'C2',\n",
              "  'C2',\n",
              "  'C2',\n",
              "  'C2',\n",
              "  'C2',\n",
              "  'C2',\n",
              "  'C2',\n",
              "  'C2',\n",
              "  'C2',\n",
              "  'C2']}"
            ]
          },
          "metadata": {},
          "execution_count": 53
        },
        {
          "output_type": "display_data",
          "data": {
            "text/plain": [
              "<Figure size 2160x1080 with 1 Axes>"
            ],
            "image/png": "[encoded data removed]"
          },
          "metadata": {
            "needs_background": "light"
          }
        }
      ]
    },
    {
      "cell_type": "markdown",
      "source": [
        "Print the partial distance between two points."
      ],
      "metadata": {
        "id": "-eyFzR-EFfZa"
      }
    },
    {
      "cell_type": "code",
      "source": [
        "from scipy.spatial.distance import pdist\n",
        "pdistances = pdist(x, metric='euclidean')\n",
        "pdistances"
      ],
      "metadata": {
        "colab": {
          "base_uri": "https://localhost:8080/"
        },
        "id": "hAN33ixgEx-x",
        "outputId": "e3f73709-092d-4834-969a-eb22d2deace0"
      },
      "execution_count": null,
      "outputs": [
        {
          "output_type": "execute_result",
          "data": {
            "text/plain": [
              "array([0.53851648, 0.50990195, 0.64807407, ..., 0.6164414 , 0.64031242,\n",
              "       0.76811457])"
            ]
          },
          "metadata": {},
          "execution_count": 61
        }
      ]
    },
    {
      "cell_type": "code",
      "source": [
        "from scipy.spatial.distance import squareform\n",
        "squareform(pdistances)"
      ],
      "metadata": {
        "colab": {
          "base_uri": "https://localhost:8080/"
        },
        "id": "jFpy_zE0FrGr",
        "outputId": "704585e2-1a13-4b76-a2dc-4ec39560aae6"
      },
      "execution_count": null,
      "outputs": [
        {
          "output_type": "execute_result",
          "data": {
            "text/plain": [
              "array([[0.        , 0.53851648, 0.50990195, ..., 4.45982062, 4.65080638,\n",
              "        4.14004831],\n",
              "       [0.53851648, 0.        , 0.3       , ..., 4.49888875, 4.71805044,\n",
              "        4.15331193],\n",
              "       [0.50990195, 0.3       , 0.        , ..., 4.66154481, 4.84871117,\n",
              "        4.29883705],\n",
              "       ...,\n",
              "       [4.45982062, 4.49888875, 4.66154481, ..., 0.        , 0.6164414 ,\n",
              "        0.64031242],\n",
              "       [4.65080638, 4.71805044, 4.84871117, ..., 0.6164414 , 0.        ,\n",
              "        0.76811457],\n",
              "       [4.14004831, 4.15331193, 4.29883705, ..., 0.64031242, 0.76811457,\n",
              "        0.        ]])"
            ]
          },
          "metadata": {},
          "execution_count": 62
        }
      ]
    }
  ]
}